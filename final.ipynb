{
 "cells": [
  {
   "cell_type": "code",
   "execution_count": 10,
   "metadata": {
    "collapsed": true,
    "pycharm": {
     "name": "#%%\n"
    }
   },
   "outputs": [],
   "source": [
    "from datetime import datetime as dt\n",
    "\n",
    "import matplotlib.pyplot as plt\n",
    "\n",
    "from sklearn.tree import DecisionTreeRegressor as dtr\n",
    "from sklearn.ensemble import RandomForestRegressor as rfr\n",
    "from sklearn.ensemble import GradientBoostingRegressor as gbr\n",
    "\n",
    "from sklearn.metrics import mean_squared_error\n",
    "import numpy as np\n",
    "import pandas as pd\n",
    "\n",
    "import xgboost as xgb\n",
    "\n",
    "url='https://drive.google.com/file/d/1-4YpXkd2kIOM5viSRw8g7oOQm8sicciB/view?usp=sharing'\n",
    "url='https://drive.google.com/uc?id=' + url.split('/')[-2]\n",
    "y_train = pd.read_csv(url, index_col=0)\n",
    "\n",
    "url='https://drive.google.com/file/d/1-7VK3dNry2-AYnfRsxMWsOKhHHMTN_ZA/view?usp=sharing'\n",
    "url='https://drive.google.com/uc?id=' + url.split('/')[-2]\n",
    "test_indices = pd.read_csv(url, index_col=0)"
   ]
  },
  {
   "cell_type": "code",
   "execution_count": 11,
   "outputs": [],
   "source": [
    "def month_to_season(month: int):\n",
    "    if month < 4:\n",
    "        return \"winter\"\n",
    "    elif month < 7:\n",
    "        return \"spring\"\n",
    "    elif month < 10:\n",
    "        return \"summer\"\n",
    "    elif month < 13:\n",
    "        return \"fall\""
   ],
   "metadata": {
    "collapsed": false,
    "pycharm": {
     "name": "#%%\n"
    }
   }
  },
  {
   "cell_type": "code",
   "execution_count": 12,
   "outputs": [],
   "source": [
    "df = pd.read_csv(\"weather.csv\")"
   ],
   "metadata": {
    "collapsed": false,
    "pycharm": {
     "name": "#%%\n"
    }
   }
  },
  {
   "cell_type": "code",
   "execution_count": 13,
   "outputs": [],
   "source": [
    "df[\"timestamp\"] = df[[\"timestamp\"]].apply(lambda x: f\"{x[0][0:4]}-{x[0][4:6]}-{x[0][6:8]}\", axis=1)"
   ],
   "metadata": {
    "collapsed": false,
    "pycharm": {
     "name": "#%%\n"
    }
   }
  },
  {
   "cell_type": "code",
   "execution_count": 14,
   "outputs": [],
   "source": [
    "# df[[\"timestamp\"]].apply(lambda x: f\"{x[0][0:4]}-{x[0][4:6]}-{x[0][6:8]}\", axis=1)\n",
    "df = df.groupby(\"timestamp\").mean()\n",
    "df = df[df.index >= \"2009-12-28\"]"
   ],
   "metadata": {
    "collapsed": false,
    "pycharm": {
     "name": "#%%\n"
    }
   }
  },
  {
   "cell_type": "code",
   "execution_count": 15,
   "outputs": [],
   "source": [
    "fitted_df = pd.DataFrame(df.iloc[0:7].sum() / 7, columns=[f\"{df.index[0]}/{df.index[6]}\"]).transpose()\n",
    "for i in range(7, len(df.index), 7):\n",
    "    fitted_df = pd.concat([fitted_df, pd.DataFrame(df.iloc[i:i + 7].sum() / 7, columns=[f\"{df.index[i]}/{df.index[i + 6]}\"]).transpose()])"
   ],
   "metadata": {
    "collapsed": false,
    "pycharm": {
     "name": "#%%\n"
    }
   }
  },
  {
   "cell_type": "code",
   "execution_count": 16,
   "outputs": [],
   "source": [
    "fitted_df.index.name=\"year_weeks\""
   ],
   "metadata": {
    "collapsed": false,
    "pycharm": {
     "name": "#%%\n"
    }
   }
  },
  {
   "cell_type": "code",
   "execution_count": 17,
   "outputs": [],
   "source": [
    "y_train = pd.concat([y_train, fitted_df.iloc[0:len(y_train.index)]], axis=1)\n",
    "y_train.index.name = \"year_weeks\""
   ],
   "metadata": {
    "collapsed": false,
    "pycharm": {
     "name": "#%%\n"
    }
   }
  },
  {
   "cell_type": "code",
   "execution_count": 80,
   "outputs": [],
   "source": [
    "train = y_train.reset_index()\n",
    "melted_train = pd.melt(train, id_vars=[\"year_weeks\", \"Temperature\", \"Relative Humidity\", \"Wind Speed\", \"Wind Direction\"], var_name=\"City\", value_name=\"Weight\")\n",
    "melted_train[\"temp\"] = melted_train[[\"City\"]].apply(lambda x: x[0].split(\"_\"), axis=1)\n",
    "melted_train[[\"food\", \"district\"]] = pd.DataFrame(melted_train[\"temp\"].tolist())\n",
    "\n",
    "melted_train[\"month\"] = list(map(lambda x: int(x.split(\"/\")[1].split(\"-\")[1]), melted_train.year_weeks))\n",
    "melted_train[\"day\"] = list(map(lambda x: int(x.split(\"/\")[1].split(\"-\")[2]), melted_train.year_weeks))\n",
    "melted_train[\"season\"] = list(map(lambda x: month_to_season(x), melted_train.month))\n",
    "\n",
    "melted_train = melted_train[[\"year_weeks\", \"month\", \"day\", \"season\", \"year_weeks\", \"Temperature\",\n",
    "                             \"Relative Humidity\", \"Wind Speed\", \"Wind Direction\", \"food\", \"district\", \"Weight\"]]\n",
    "X_train_df = pd.concat([pd.get_dummies(melted_train[\"month\"]),\n",
    "                        # pd.get_dummies(melted_train[\"day\"]),\n",
    "                        # pd.get_dummies(melted_train[\"season\"]),\n",
    "                        # melted_train[\"Temperature\"],\n",
    "                        # melted_train[\"Relative Humidity\"],\n",
    "                        # melted_train[\"Wind Speed\"],\n",
    "                        # melted_train[\"Wind Direction\"],\n",
    "                        pd.get_dummies(melted_train[\"food\"]),\n",
    "                        pd.get_dummies(melted_train[\"district\"])], axis=1)\n",
    "X_train = X_train_df.to_numpy()\n",
    "Y_train = melted_train[\"Weight\"].to_numpy()\n"
   ],
   "metadata": {
    "collapsed": false,
    "pycharm": {
     "name": "#%%\n"
    }
   }
  },
  {
   "cell_type": "code",
   "execution_count": 81,
   "outputs": [
    {
     "data": {
      "text/plain": "['לפת_מחוז חיפה',\n 'ענבים_מחוז תל אביב',\n 'פלפלים_מחוז תל אביב',\n 'צנון_מחוז ירושלים',\n 'קישואים_יהודה ושומרון',\n 'תפו\"א_יהודה ושומרון',\n 'תפו\"א_מחוז ירושלים']"
     },
     "execution_count": 81,
     "metadata": {},
     "output_type": "execute_result"
    }
   ],
   "source": [
    "ddd = pd.DataFrame(y_train.sum(), columns=[\"sum\"])\n",
    "zeros = ddd[ddd[\"sum\"] == 0].index.tolist()\n",
    "zeros"
   ],
   "metadata": {
    "collapsed": false,
    "pycharm": {
     "name": "#%%\n"
    }
   }
  },
  {
   "cell_type": "code",
   "execution_count": 83,
   "outputs": [
    {
     "data": {
      "text/plain": "DecisionTreeRegressor(max_depth=15, max_features=46, min_samples_split=105,\n                      random_state=0)",
      "text/html": "<style>#sk-container-id-7 {color: black;background-color: white;}#sk-container-id-7 pre{padding: 0;}#sk-container-id-7 div.sk-toggleable {background-color: white;}#sk-container-id-7 label.sk-toggleable__label {cursor: pointer;display: block;width: 100%;margin-bottom: 0;padding: 0.3em;box-sizing: border-box;text-align: center;}#sk-container-id-7 label.sk-toggleable__label-arrow:before {content: \"▸\";float: left;margin-right: 0.25em;color: #696969;}#sk-container-id-7 label.sk-toggleable__label-arrow:hover:before {color: black;}#sk-container-id-7 div.sk-estimator:hover label.sk-toggleable__label-arrow:before {color: black;}#sk-container-id-7 div.sk-toggleable__content {max-height: 0;max-width: 0;overflow: hidden;text-align: left;background-color: #f0f8ff;}#sk-container-id-7 div.sk-toggleable__content pre {margin: 0.2em;color: black;border-radius: 0.25em;background-color: #f0f8ff;}#sk-container-id-7 input.sk-toggleable__control:checked~div.sk-toggleable__content {max-height: 200px;max-width: 100%;overflow: auto;}#sk-container-id-7 input.sk-toggleable__control:checked~label.sk-toggleable__label-arrow:before {content: \"▾\";}#sk-container-id-7 div.sk-estimator input.sk-toggleable__control:checked~label.sk-toggleable__label {background-color: #d4ebff;}#sk-container-id-7 div.sk-label input.sk-toggleable__control:checked~label.sk-toggleable__label {background-color: #d4ebff;}#sk-container-id-7 input.sk-hidden--visually {border: 0;clip: rect(1px 1px 1px 1px);clip: rect(1px, 1px, 1px, 1px);height: 1px;margin: -1px;overflow: hidden;padding: 0;position: absolute;width: 1px;}#sk-container-id-7 div.sk-estimator {font-family: monospace;background-color: #f0f8ff;border: 1px dotted black;border-radius: 0.25em;box-sizing: border-box;margin-bottom: 0.5em;}#sk-container-id-7 div.sk-estimator:hover {background-color: #d4ebff;}#sk-container-id-7 div.sk-parallel-item::after {content: \"\";width: 100%;border-bottom: 1px solid gray;flex-grow: 1;}#sk-container-id-7 div.sk-label:hover label.sk-toggleable__label {background-color: #d4ebff;}#sk-container-id-7 div.sk-serial::before {content: \"\";position: absolute;border-left: 1px solid gray;box-sizing: border-box;top: 0;bottom: 0;left: 50%;z-index: 0;}#sk-container-id-7 div.sk-serial {display: flex;flex-direction: column;align-items: center;background-color: white;padding-right: 0.2em;padding-left: 0.2em;position: relative;}#sk-container-id-7 div.sk-item {position: relative;z-index: 1;}#sk-container-id-7 div.sk-parallel {display: flex;align-items: stretch;justify-content: center;background-color: white;position: relative;}#sk-container-id-7 div.sk-item::before, #sk-container-id-7 div.sk-parallel-item::before {content: \"\";position: absolute;border-left: 1px solid gray;box-sizing: border-box;top: 0;bottom: 0;left: 50%;z-index: -1;}#sk-container-id-7 div.sk-parallel-item {display: flex;flex-direction: column;z-index: 1;position: relative;background-color: white;}#sk-container-id-7 div.sk-parallel-item:first-child::after {align-self: flex-end;width: 50%;}#sk-container-id-7 div.sk-parallel-item:last-child::after {align-self: flex-start;width: 50%;}#sk-container-id-7 div.sk-parallel-item:only-child::after {width: 0;}#sk-container-id-7 div.sk-dashed-wrapped {border: 1px dashed gray;margin: 0 0.4em 0.5em 0.4em;box-sizing: border-box;padding-bottom: 0.4em;background-color: white;}#sk-container-id-7 div.sk-label label {font-family: monospace;font-weight: bold;display: inline-block;line-height: 1.2em;}#sk-container-id-7 div.sk-label-container {text-align: center;}#sk-container-id-7 div.sk-container {/* jupyter's `normalize.less` sets `[hidden] { display: none; }` but bootstrap.min.css set `[hidden] { display: none !important; }` so we also need the `!important` here to be able to override the default hidden behavior on the sphinx rendered scikit-learn.org. See: https://github.com/scikit-learn/scikit-learn/issues/21755 */display: inline-block !important;position: relative;}#sk-container-id-7 div.sk-text-repr-fallback {display: none;}</style><div id=\"sk-container-id-7\" class=\"sk-top-container\"><div class=\"sk-text-repr-fallback\"><pre>DecisionTreeRegressor(max_depth=15, max_features=46, min_samples_split=105,\n                      random_state=0)</pre><b>In a Jupyter environment, please rerun this cell to show the HTML representation or trust the notebook. <br />On GitHub, the HTML representation is unable to render, please try loading this page with nbviewer.org.</b></div><div class=\"sk-container\" hidden><div class=\"sk-item\"><div class=\"sk-estimator sk-toggleable\"><input class=\"sk-toggleable__control sk-hidden--visually\" id=\"sk-estimator-id-7\" type=\"checkbox\" checked><label for=\"sk-estimator-id-7\" class=\"sk-toggleable__label sk-toggleable__label-arrow\">DecisionTreeRegressor</label><div class=\"sk-toggleable__content\"><pre>DecisionTreeRegressor(max_depth=15, max_features=46, min_samples_split=105,\n                      random_state=0)</pre></div></div></div></div></div>"
     },
     "execution_count": 83,
     "metadata": {},
     "output_type": "execute_result"
    }
   ],
   "source": [
    "# model = rfr(max_depth=14, n_estimators=120, max_features=47, random_state=3, bootstrap=True)\n",
    "# model = gbr(max_features=47, n_estimators=120, max_depth=14, random_state=0)\n",
    "model = dtr(max_depth=15, min_samples_split=105, max_features=46, random_state=0)\n",
    "model.fit(X_train, Y_train)"
   ],
   "metadata": {
    "collapsed": false,
    "pycharm": {
     "name": "#%%\n"
    }
   }
  },
  {
   "cell_type": "code",
   "execution_count": 84,
   "outputs": [],
   "source": [
    "Y_pred = model.predict(X_train)\n",
    "Y_pred = np.array(map(lambda x: x if x >= 0 else 0, Y_pred))\n",
    "melted_train[\"pred\"] = Y_pred\n",
    "for e in zeros:\n",
    "    food, location = e.split(\"_\")\n",
    "    melted_train.loc[(melted_train[\"food\"] == food) & (melted_train[\"district\"] == location), [\"pred\"]] = 0\n",
    "Y_pred = melted_train[\"pred\"].to_numpy()"
   ],
   "metadata": {
    "collapsed": false,
    "pycharm": {
     "name": "#%%\n"
    }
   }
  },
  {
   "cell_type": "code",
   "execution_count": 274,
   "outputs": [],
   "source": [
    "import xgboost as xgb\n",
    "from sklearn.model_selection import train_test_split\n",
    "X_train_08, X_test_02, Y_train_08, Y_test_02 = train_test_split(X_train, Y_train, test_size=0.2, random_state=0)\n",
    "\n",
    "\n",
    "param = {'max_depth': 16, 'eta': 1, 'objective': 'reg:tweedie'}\n",
    "param['nthread'] = 4\n",
    "param['eval_metric'] = 'auc'\n",
    "\n",
    "dtrain = xgb.DMatrix(X_train_08, label=Y_train_08)\n",
    "\n",
    "num_rounds = 30\n",
    "bst = xgb.train(param, dtrain, num_rounds)\n",
    "# print(X_train_08)"
   ],
   "metadata": {
    "collapsed": false,
    "pycharm": {
     "name": "#%%\n"
    }
   }
  },
  {
   "cell_type": "code",
   "execution_count": 275,
   "outputs": [
    {
     "data": {
      "text/plain": "array([3.7205879e+01, 3.7205879e+01, 3.7205879e+01, ..., 2.1905837e-06,\n       3.6039996e-06, 3.6039996e-06], dtype=float32)"
     },
     "execution_count": 275,
     "metadata": {},
     "output_type": "execute_result"
    }
   ],
   "source": [
    "dtest = xgb.DMatrix(X_train)\n",
    "bst.predict(dtest)"
   ],
   "metadata": {
    "collapsed": false,
    "pycharm": {
     "name": "#%%\n"
    }
   }
  },
  {
   "cell_type": "code",
   "execution_count": 85,
   "outputs": [
    {
     "data": {
      "text/plain": "5997.809362508124"
     },
     "execution_count": 85,
     "metadata": {},
     "output_type": "execute_result"
    }
   ],
   "source": [
    "mean_squared_error(Y_train, Y_pred, squared=False)"
   ],
   "metadata": {
    "collapsed": false,
    "pycharm": {
     "name": "#%%\n"
    }
   }
  },
  {
   "cell_type": "code",
   "execution_count": 110,
   "outputs": [
    {
     "name": "stdout",
     "output_type": "stream",
     "text": [
      "49\r"
     ]
    },
    {
     "data": {
      "text/plain": "[<matplotlib.lines.Line2D at 0x7f8b821e2430>]"
     },
     "execution_count": 110,
     "metadata": {},
     "output_type": "execute_result"
    },
    {
     "data": {
      "text/plain": "<Figure size 432x288 with 1 Axes>",
      "image/png": "[encoded data removed]"
     },
     "metadata": {
      "needs_background": "light"
     },
     "output_type": "display_data"
    }
   ],
   "source": [
    "# decision tree cv\n",
    "\n",
    "\n",
    "RMSE = []\n",
    "E = 50\n",
    "for i in range(1, E):\n",
    "    print(i, end=\"\\r\")\n",
    "    model = dtr(max_depth=i, random_state=0)\n",
    "    model.fit(X_train_08, Y_train_08)\n",
    "    RMSE.append(mean_squared_error(Y_test_02, model.predict(X_test_02), squared=False))\n",
    "plt.plot(np.arange(1, E), RMSE)\n"
   ],
   "metadata": {
    "collapsed": false,
    "pycharm": {
     "name": "#%%\n"
    }
   }
  },
  {
   "cell_type": "code",
   "execution_count": 123,
   "outputs": [
    {
     "name": "stdout",
     "output_type": "stream",
     "text": [
      "109\r"
     ]
    },
    {
     "data": {
      "text/plain": "[<matplotlib.lines.Line2D at 0x7f8b8a70f1f0>]"
     },
     "execution_count": 123,
     "metadata": {},
     "output_type": "execute_result"
    },
    {
     "data": {
      "text/plain": "<Figure size 432x288 with 1 Axes>",
      "image/png": "[encoded data removed]"
     },
     "metadata": {
      "needs_background": "light"
     },
     "output_type": "display_data"
    }
   ],
   "source": [
    "RMSE = []\n",
    "S = 103\n",
    "E = 110\n",
    "loop_range = np.arange(S, E, 1)\n",
    "\n",
    "for i in loop_range:\n",
    "    print(i, end=\"\\r\")\n",
    "    model = dtr(max_depth=15, min_samples_split=i, random_state=0)\n",
    "    model.fit(X_train_08, Y_train_08)\n",
    "    RMSE.append(mean_squared_error(Y_test_02, model.predict(X_test_02), squared=False))\n",
    "plt.plot(loop_range, RMSE)\n"
   ],
   "metadata": {
    "collapsed": false,
    "pycharm": {
     "name": "#%%\n"
    }
   }
  },
  {
   "cell_type": "code",
   "execution_count": 148,
   "outputs": [
    {
     "name": "stdout",
     "output_type": "stream",
     "text": [
      "50\r"
     ]
    },
    {
     "data": {
      "text/plain": "[<matplotlib.lines.Line2D at 0x7f8b8079ec10>]"
     },
     "execution_count": 148,
     "metadata": {},
     "output_type": "execute_result"
    },
    {
     "data": {
      "text/plain": "<Figure size 432x288 with 1 Axes>",
      "image/png": "[encoded data removed]"
     },
     "metadata": {
      "needs_background": "light"
     },
     "output_type": "display_data"
    }
   ],
   "source": [
    "RMSE = []\n",
    "S = 30\n",
    "E = 51\n",
    "loop_range = np.arange(S, E, 1)\n",
    "\n",
    "for i in loop_range:\n",
    "    print(i, end=\"\\r\")\n",
    "    model = dtr(max_depth=15, min_samples_split=105, max_features=i, random_state=0)\n",
    "    model.fit(X_train_08, Y_train_08)\n",
    "    RMSE.append(mean_squared_error(Y_test_02, model.predict(X_test_02), squared=False))\n",
    "plt.plot(loop_range, RMSE)\n"
   ],
   "metadata": {
    "collapsed": false,
    "pycharm": {
     "name": "#%%\n"
    }
   }
  },
  {
   "cell_type": "code",
   "execution_count": 149,
   "outputs": [
    {
     "data": {
      "text/plain": "46"
     },
     "execution_count": 149,
     "metadata": {},
     "output_type": "execute_result"
    }
   ],
   "source": [
    "RMSE = np.array(RMSE)\n",
    "loop_range[RMSE.argmin()]"
   ],
   "metadata": {
    "collapsed": false,
    "pycharm": {
     "name": "#%%\n"
    }
   }
  },
  {
   "cell_type": "code",
   "execution_count": null,
   "outputs": [],
   "source": [],
   "metadata": {
    "collapsed": false,
    "pycharm": {
     "name": "#%%\n"
    }
   }
  },
  {
   "cell_type": "code",
   "execution_count": null,
   "outputs": [],
   "source": [],
   "metadata": {
    "collapsed": false,
    "pycharm": {
     "name": "#%%\n"
    }
   }
  },
  {
   "cell_type": "code",
   "execution_count": null,
   "outputs": [],
   "source": [],
   "metadata": {
    "collapsed": false,
    "pycharm": {
     "name": "#%%\n"
    }
   }
  },
  {
   "cell_type": "code",
   "execution_count": null,
   "outputs": [],
   "source": [],
   "metadata": {
    "collapsed": false,
    "pycharm": {
     "name": "#%%\n"
    }
   }
  },
  {
   "cell_type": "code",
   "execution_count": null,
   "outputs": [],
   "source": [],
   "metadata": {
    "collapsed": false,
    "pycharm": {
     "name": "#%%\n"
    }
   }
  },
  {
   "cell_type": "code",
   "execution_count": null,
   "outputs": [],
   "source": [],
   "metadata": {
    "collapsed": false,
    "pycharm": {
     "name": "#%%\n"
    }
   }
  },
  {
   "cell_type": "code",
   "execution_count": 22,
   "outputs": [
    {
     "name": "stdout",
     "output_type": "stream",
     "text": [
      "50\r"
     ]
    },
    {
     "data": {
      "text/plain": "<Figure size 432x288 with 1 Axes>",
      "image/png": "[encoded data removed]"
     },
     "metadata": {
      "needs_background": "light"
     },
     "output_type": "display_data"
    }
   ],
   "source": [
    "# cross validation\n",
    "\n",
    "from sklearn.model_selection import train_test_split\n",
    "X_train_08, X_test_02, Y_train_08, Y_test_02 = train_test_split(X_train, Y_train, test_size=0.2, random_state=0)\n",
    "\n",
    "RMSE = []\n",
    "for i in range(1, 51):\n",
    "    print(i, end=\"\\r\")\n",
    "    model = rfr(max_depth=5, n_estimators=200, max_features=i, random_state=3, bootstrap=True)\n",
    "    model.fit(X_train_08, Y_train_08)\n",
    "    RMSE.append(mean_squared_error(Y_test_02, model.predict(X_test_02), squared=False))\n",
    "plt.plot(np.arange(1, 51), RMSE)\n",
    "plt.show()"
   ],
   "metadata": {
    "collapsed": false,
    "pycharm": {
     "name": "#%%\n"
    }
   }
  },
  {
   "cell_type": "code",
   "execution_count": 62,
   "outputs": [
    {
     "data": {
      "text/plain": "47"
     },
     "execution_count": 62,
     "metadata": {},
     "output_type": "execute_result"
    }
   ],
   "source": [
    "RMSE = np.array(RMSE)\n",
    "max_feature = RMSE.argmin()\n",
    "max_feature"
   ],
   "metadata": {
    "collapsed": false,
    "pycharm": {
     "name": "#%%\n"
    }
   }
  },
  {
   "cell_type": "code",
   "execution_count": 26,
   "outputs": [
    {
     "name": "stdout",
     "output_type": "stream",
     "text": [
      "15\r"
     ]
    },
    {
     "data": {
      "text/plain": "[<matplotlib.lines.Line2D at 0x7f8b82723e80>]"
     },
     "execution_count": 26,
     "metadata": {},
     "output_type": "execute_result"
    },
    {
     "data": {
      "text/plain": "<Figure size 432x288 with 1 Axes>",
      "image/png": "[encoded data removed]"
     },
     "metadata": {
      "needs_background": "light"
     },
     "output_type": "display_data"
    }
   ],
   "source": [
    "RMSE = []\n",
    "E = 16\n",
    "for i in range(1, E):\n",
    "    print(i, end=\"\\r\")\n",
    "    model = rfr(max_depth=i, n_estimators=200, max_features=max_feature, random_state=3, bootstrap=True)\n",
    "    model.fit(X_train_08, Y_train_08)\n",
    "    RMSE.append(mean_squared_error(Y_test_02, model.predict(X_test_02), squared=False))\n",
    "plt.plot(np.arange(1, E), RMSE)"
   ],
   "metadata": {
    "collapsed": false,
    "pycharm": {
     "name": "#%%\n"
    }
   }
  },
  {
   "cell_type": "code",
   "execution_count": 63,
   "outputs": [
    {
     "data": {
      "text/plain": "14"
     },
     "execution_count": 63,
     "metadata": {},
     "output_type": "execute_result"
    }
   ],
   "source": [
    "RMSE = np.array(RMSE)\n",
    "max_depth = RMSE.argmin()\n",
    "max_depth"
   ],
   "metadata": {
    "collapsed": false,
    "pycharm": {
     "name": "#%%\n"
    }
   }
  },
  {
   "cell_type": "code",
   "execution_count": 45,
   "outputs": [],
   "source": [
    "RMSE = []\n",
    "E = 301\n",
    "for i in range(20, E, 20):\n",
    "    print(i, end=\"\\r\")\n",
    "    model = rfr(max_depth=max_depth, n_estimators=i, max_features=max_feature, random_state=3, bootstrap=True)\n",
    "    model.fit(X_train_08, Y_train_08)\n",
    "    RMSE.append(mean_squared_error(Y_test_02, model.predict(X_test_02), squared=False))\n"
   ],
   "metadata": {
    "collapsed": false,
    "pycharm": {
     "name": "#%%\n"
    }
   }
  },
  {
   "cell_type": "code",
   "execution_count": 47,
   "outputs": [
    {
     "data": {
      "text/plain": "[<matplotlib.lines.Line2D at 0x7f8b834183d0>]"
     },
     "execution_count": 47,
     "metadata": {},
     "output_type": "execute_result"
    },
    {
     "data": {
      "text/plain": "<Figure size 432x288 with 1 Axes>",
      "image/png": "[encoded data removed]"
     },
     "metadata": {
      "needs_background": "light"
     },
     "output_type": "display_data"
    }
   ],
   "source": [
    "plt.plot(np.arange(20, E, 20), RMSE)\n"
   ],
   "metadata": {
    "collapsed": false,
    "pycharm": {
     "name": "#%%\n"
    }
   }
  },
  {
   "cell_type": "code",
   "execution_count": 49,
   "outputs": [
    {
     "data": {
      "text/plain": "120"
     },
     "execution_count": 49,
     "metadata": {},
     "output_type": "execute_result"
    }
   ],
   "source": [
    "RMSE = np.array(RMSE)\n",
    "n_estimators = np.arange(20, E, 20)[RMSE.argmin()]\n",
    "n_estimators"
   ],
   "metadata": {
    "collapsed": false,
    "pycharm": {
     "name": "#%%\n"
    }
   }
  },
  {
   "cell_type": "code",
   "execution_count": 57,
   "outputs": [
    {
     "name": "stdout",
     "output_type": "stream",
     "text": [
      "130\r"
     ]
    },
    {
     "data": {
      "text/plain": "[<matplotlib.lines.Line2D at 0x7f8b829ade20>]"
     },
     "execution_count": 57,
     "metadata": {},
     "output_type": "execute_result"
    },
    {
     "data": {
      "text/plain": "<Figure size 432x288 with 1 Axes>",
      "image/png": "[encoded data removed]"
     },
     "metadata": {
      "needs_background": "light"
     },
     "output_type": "display_data"
    }
   ],
   "source": [
    "RMSE = []\n",
    "E = 131\n",
    "for i in range(110, E, 2):\n",
    "    print(i, end=\"\\r\")\n",
    "    model = rfr(max_depth=max_depth, n_estimators=i, max_features=max_feature, random_state=3, bootstrap=True)\n",
    "    model.fit(X_train_08, Y_train_08)\n",
    "    RMSE.append(mean_squared_error(Y_test_02, model.predict(X_test_02), squared=False))\n",
    "plt.plot(range(110, E, 2), RMSE)\n"
   ],
   "metadata": {
    "collapsed": false,
    "pycharm": {
     "name": "#%%\n"
    }
   }
  },
  {
   "cell_type": "code",
   "execution_count": 58,
   "outputs": [
    {
     "data": {
      "text/plain": "120"
     },
     "execution_count": 58,
     "metadata": {},
     "output_type": "execute_result"
    }
   ],
   "source": [
    "RMSE = np.array(RMSE)\n",
    "np.arange(110, E, 2)[RMSE.argmin()]"
   ],
   "metadata": {
    "collapsed": false,
    "pycharm": {
     "name": "#%%\n"
    }
   }
  },
  {
   "cell_type": "code",
   "execution_count": null,
   "outputs": [],
   "source": [],
   "metadata": {
    "collapsed": false,
    "pycharm": {
     "name": "#%%\n"
    }
   }
  },
  {
   "cell_type": "code",
   "execution_count": null,
   "outputs": [],
   "source": [],
   "metadata": {
    "collapsed": false,
    "pycharm": {
     "name": "#%%\n"
    }
   }
  },
  {
   "cell_type": "code",
   "execution_count": 69,
   "outputs": [
    {
     "data": {
      "text/plain": "5998.737054547487"
     },
     "execution_count": 69,
     "metadata": {},
     "output_type": "execute_result"
    }
   ],
   "source": [
    "model = rfr(max_depth=max_depth, n_estimators=n_estimators, max_features=max_feature, random_state=1, bootstrap=True)\n",
    "model.fit(X_train, Y_train)\n",
    "mean_squared_error(Y_train, model.predict(X_train), squared=False)"
   ],
   "metadata": {
    "collapsed": false,
    "pycharm": {
     "name": "#%%\n"
    }
   }
  },
  {
   "cell_type": "code",
   "execution_count": null,
   "outputs": [],
   "source": [],
   "metadata": {
    "collapsed": false,
    "pycharm": {
     "name": "#%%\n"
    }
   }
  },
  {
   "cell_type": "code",
   "execution_count": null,
   "outputs": [],
   "source": [],
   "metadata": {
    "collapsed": false,
    "pycharm": {
     "name": "#%%\n"
    }
   }
  },
  {
   "cell_type": "code",
   "execution_count": null,
   "outputs": [],
   "source": [],
   "metadata": {
    "collapsed": false,
    "pycharm": {
     "name": "#%%\n"
    }
   }
  },
  {
   "cell_type": "code",
   "execution_count": null,
   "outputs": [],
   "source": [],
   "metadata": {
    "collapsed": false,
    "pycharm": {
     "name": "#%%\n"
    }
   }
  },
  {
   "cell_type": "code",
   "execution_count": null,
   "outputs": [],
   "source": [],
   "metadata": {
    "collapsed": false,
    "pycharm": {
     "name": "#%%\n"
    }
   }
  },
  {
   "cell_type": "code",
   "execution_count": 70,
   "outputs": [
    {
     "data": {
      "text/plain": "             name importance\n5             6.0   0.121316\n6             7.0    0.11737\n4             5.0   0.065171\n40     מחוז הדרום   0.052492\n7             8.0   0.044132\n26        עגבניות   0.043914\n25            סלק   0.043091\n17          גזרים   0.042708\n2             3.0   0.042659\n35          תפו\"א   0.042057\n3             4.0   0.036868\n11           12.0    0.03327\n24       מלפפונים    0.03245\n12          other   0.029684\n1             2.0   0.026478\n0             1.0   0.022006\n42     מחוז הצפון   0.021715\n16          בצלים   0.021375\n38          other    0.01683\n10           11.0    0.01601\n19         חצילים   0.014739\n41     מחוז המרכז   0.014438\n9            10.0   0.014398\n8             9.0   0.013317\n34      קלמנטינות   0.012802\n29         פלפלים   0.012142\n13        אבטיחים   0.010757\n32        קולורבי   0.010462\n20           כרוב   0.008389\n31         צנונית    0.00496\n37         תפוחים   0.002538\n43      מחוז חיפה   0.002443\n39  יהודה ושומרון   0.002102\n23         מלונים   0.001233\n36         תפוזים   0.000897\n15          בטטות   0.000791\n14       אשכוליות    0.00075\n45   מחוז תל אביב   0.000449\n27          ענבים    0.00036\n22            לפת   0.000179\n21        לימונים   0.000106\n28         פומלית   0.000071\n44   מחוז ירושלים   0.000039\n30           צנון   0.000038\n33        קישואים   0.000006\n18            חסה        0.0",
      "text/html": "<div>\n<style scoped>\n    .dataframe tbody tr th:only-of-type {\n        vertical-align: middle;\n    }\n\n    .dataframe tbody tr th {\n        vertical-align: top;\n    }\n\n    .dataframe thead th {\n        text-align: right;\n    }\n</style>\n<table border=\"1\" class=\"dataframe\">\n  <thead>\n    <tr style=\"text-align: right;\">\n      <th></th>\n      <th>name</th>\n      <th>importance</th>\n    </tr>\n  </thead>\n  <tbody>\n    <tr>\n      <th>5</th>\n      <td>6.0</td>\n      <td>0.121316</td>\n    </tr>\n    <tr>\n      <th>6</th>\n      <td>7.0</td>\n      <td>0.11737</td>\n    </tr>\n    <tr>\n      <th>4</th>\n      <td>5.0</td>\n      <td>0.065171</td>\n    </tr>\n    <tr>\n      <th>40</th>\n      <td>מחוז הדרום</td>\n      <td>0.052492</td>\n    </tr>\n    <tr>\n      <th>7</th>\n      <td>8.0</td>\n      <td>0.044132</td>\n    </tr>\n    <tr>\n      <th>26</th>\n      <td>עגבניות</td>\n      <td>0.043914</td>\n    </tr>\n    <tr>\n      <th>25</th>\n      <td>סלק</td>\n      <td>0.043091</td>\n    </tr>\n    <tr>\n      <th>17</th>\n      <td>גזרים</td>\n      <td>0.042708</td>\n    </tr>\n    <tr>\n      <th>2</th>\n      <td>3.0</td>\n      <td>0.042659</td>\n    </tr>\n    <tr>\n      <th>35</th>\n      <td>תפו\"א</td>\n      <td>0.042057</td>\n    </tr>\n    <tr>\n      <th>3</th>\n      <td>4.0</td>\n      <td>0.036868</td>\n    </tr>\n    <tr>\n      <th>11</th>\n      <td>12.0</td>\n      <td>0.03327</td>\n    </tr>\n    <tr>\n      <th>24</th>\n      <td>מלפפונים</td>\n      <td>0.03245</td>\n    </tr>\n    <tr>\n      <th>12</th>\n      <td>other</td>\n      <td>0.029684</td>\n    </tr>\n    <tr>\n      <th>1</th>\n      <td>2.0</td>\n      <td>0.026478</td>\n    </tr>\n    <tr>\n      <th>0</th>\n      <td>1.0</td>\n      <td>0.022006</td>\n    </tr>\n    <tr>\n      <th>42</th>\n      <td>מחוז הצפון</td>\n      <td>0.021715</td>\n    </tr>\n    <tr>\n      <th>16</th>\n      <td>בצלים</td>\n      <td>0.021375</td>\n    </tr>\n    <tr>\n      <th>38</th>\n      <td>other</td>\n      <td>0.01683</td>\n    </tr>\n    <tr>\n      <th>10</th>\n      <td>11.0</td>\n      <td>0.01601</td>\n    </tr>\n    <tr>\n      <th>19</th>\n      <td>חצילים</td>\n      <td>0.014739</td>\n    </tr>\n    <tr>\n      <th>41</th>\n      <td>מחוז המרכז</td>\n      <td>0.014438</td>\n    </tr>\n    <tr>\n      <th>9</th>\n      <td>10.0</td>\n      <td>0.014398</td>\n    </tr>\n    <tr>\n      <th>8</th>\n      <td>9.0</td>\n      <td>0.013317</td>\n    </tr>\n    <tr>\n      <th>34</th>\n      <td>קלמנטינות</td>\n      <td>0.012802</td>\n    </tr>\n    <tr>\n      <th>29</th>\n      <td>פלפלים</td>\n      <td>0.012142</td>\n    </tr>\n    <tr>\n      <th>13</th>\n      <td>אבטיחים</td>\n      <td>0.010757</td>\n    </tr>\n    <tr>\n      <th>32</th>\n      <td>קולורבי</td>\n      <td>0.010462</td>\n    </tr>\n    <tr>\n      <th>20</th>\n      <td>כרוב</td>\n      <td>0.008389</td>\n    </tr>\n    <tr>\n      <th>31</th>\n      <td>צנונית</td>\n      <td>0.00496</td>\n    </tr>\n    <tr>\n      <th>37</th>\n      <td>תפוחים</td>\n      <td>0.002538</td>\n    </tr>\n    <tr>\n      <th>43</th>\n      <td>מחוז חיפה</td>\n      <td>0.002443</td>\n    </tr>\n    <tr>\n      <th>39</th>\n      <td>יהודה ושומרון</td>\n      <td>0.002102</td>\n    </tr>\n    <tr>\n      <th>23</th>\n      <td>מלונים</td>\n      <td>0.001233</td>\n    </tr>\n    <tr>\n      <th>36</th>\n      <td>תפוזים</td>\n      <td>0.000897</td>\n    </tr>\n    <tr>\n      <th>15</th>\n      <td>בטטות</td>\n      <td>0.000791</td>\n    </tr>\n    <tr>\n      <th>14</th>\n      <td>אשכוליות</td>\n      <td>0.00075</td>\n    </tr>\n    <tr>\n      <th>45</th>\n      <td>מחוז תל אביב</td>\n      <td>0.000449</td>\n    </tr>\n    <tr>\n      <th>27</th>\n      <td>ענבים</td>\n      <td>0.00036</td>\n    </tr>\n    <tr>\n      <th>22</th>\n      <td>לפת</td>\n      <td>0.000179</td>\n    </tr>\n    <tr>\n      <th>21</th>\n      <td>לימונים</td>\n      <td>0.000106</td>\n    </tr>\n    <tr>\n      <th>28</th>\n      <td>פומלית</td>\n      <td>0.000071</td>\n    </tr>\n    <tr>\n      <th>44</th>\n      <td>מחוז ירושלים</td>\n      <td>0.000039</td>\n    </tr>\n    <tr>\n      <th>30</th>\n      <td>צנון</td>\n      <td>0.000038</td>\n    </tr>\n    <tr>\n      <th>33</th>\n      <td>קישואים</td>\n      <td>0.000006</td>\n    </tr>\n    <tr>\n      <th>18</th>\n      <td>חסה</td>\n      <td>0.0</td>\n    </tr>\n  </tbody>\n</table>\n</div>"
     },
     "execution_count": 70,
     "metadata": {},
     "output_type": "execute_result"
    }
   ],
   "source": [
    "pd.DataFrame([np.array(X_train_df.columns)[np.arange(len(model.feature_importances_))], model.feature_importances_], index=[\"name\", \"importance\"]).transpose().sort_values(by=\"importance\", ascending=False)"
   ],
   "metadata": {
    "collapsed": false,
    "pycharm": {
     "name": "#%%\n"
    }
   }
  },
  {
   "cell_type": "code",
   "execution_count": 23,
   "outputs": [],
   "source": [
    "test_indices.reset_index(inplace=True)\n",
    "if \"index\" in test_indices.columns:\n",
    "    test_indices.drop(columns=[\"index\"], inplace=True)\n",
    "test_indices[\"month\"] = list(map(lambda x: int(x.split(\"/\")[1].split(\"-\")[1]), test_indices.year_weeks))\n",
    "test_indices[\"day\"] = list(map(lambda x: int(x.split(\"/\")[1].split(\"-\")[2]), test_indices.year_weeks))\n",
    "test_indices[\"season\"] = list(map(lambda x: month_to_season(x), test_indices.month))"
   ],
   "metadata": {
    "collapsed": false,
    "pycharm": {
     "name": "#%%\n"
    }
   }
  },
  {
   "cell_type": "code",
   "execution_count": 24,
   "outputs": [
    {
     "data": {
      "text/plain": "                year_weeks  month  day  season\n0    2020-01-13/2020-01-19      1   19  winter\n1    2020-01-20/2020-01-26      1   26  winter\n2    2020-01-27/2020-02-02      2    2  winter\n3    2020-02-03/2020-02-09      2    9  winter\n4    2020-02-10/2020-02-16      2   16  winter\n..                     ...    ...  ...     ...\n126  2022-06-13/2022-06-19      6   19  spring\n127  2022-06-20/2022-06-26      6   26  spring\n128  2022-06-27/2022-07-03      7    3  summer\n129  2022-07-04/2022-07-10      7   10  summer\n130  2022-07-11/2022-07-17      7   17  summer\n\n[131 rows x 4 columns]",
      "text/html": "<div>\n<style scoped>\n    .dataframe tbody tr th:only-of-type {\n        vertical-align: middle;\n    }\n\n    .dataframe tbody tr th {\n        vertical-align: top;\n    }\n\n    .dataframe thead th {\n        text-align: right;\n    }\n</style>\n<table border=\"1\" class=\"dataframe\">\n  <thead>\n    <tr style=\"text-align: right;\">\n      <th></th>\n      <th>year_weeks</th>\n      <th>month</th>\n      <th>day</th>\n      <th>season</th>\n    </tr>\n  </thead>\n  <tbody>\n    <tr>\n      <th>0</th>\n      <td>2020-01-13/2020-01-19</td>\n      <td>1</td>\n      <td>19</td>\n      <td>winter</td>\n    </tr>\n    <tr>\n      <th>1</th>\n      <td>2020-01-20/2020-01-26</td>\n      <td>1</td>\n      <td>26</td>\n      <td>winter</td>\n    </tr>\n    <tr>\n      <th>2</th>\n      <td>2020-01-27/2020-02-02</td>\n      <td>2</td>\n      <td>2</td>\n      <td>winter</td>\n    </tr>\n    <tr>\n      <th>3</th>\n      <td>2020-02-03/2020-02-09</td>\n      <td>2</td>\n      <td>9</td>\n      <td>winter</td>\n    </tr>\n    <tr>\n      <th>4</th>\n      <td>2020-02-10/2020-02-16</td>\n      <td>2</td>\n      <td>16</td>\n      <td>winter</td>\n    </tr>\n    <tr>\n      <th>...</th>\n      <td>...</td>\n      <td>...</td>\n      <td>...</td>\n      <td>...</td>\n    </tr>\n    <tr>\n      <th>126</th>\n      <td>2022-06-13/2022-06-19</td>\n      <td>6</td>\n      <td>19</td>\n      <td>spring</td>\n    </tr>\n    <tr>\n      <th>127</th>\n      <td>2022-06-20/2022-06-26</td>\n      <td>6</td>\n      <td>26</td>\n      <td>spring</td>\n    </tr>\n    <tr>\n      <th>128</th>\n      <td>2022-06-27/2022-07-03</td>\n      <td>7</td>\n      <td>3</td>\n      <td>summer</td>\n    </tr>\n    <tr>\n      <th>129</th>\n      <td>2022-07-04/2022-07-10</td>\n      <td>7</td>\n      <td>10</td>\n      <td>summer</td>\n    </tr>\n    <tr>\n      <th>130</th>\n      <td>2022-07-11/2022-07-17</td>\n      <td>7</td>\n      <td>17</td>\n      <td>summer</td>\n    </tr>\n  </tbody>\n</table>\n<p>131 rows × 4 columns</p>\n</div>"
     },
     "execution_count": 24,
     "metadata": {},
     "output_type": "execute_result"
    }
   ],
   "source": [
    "test_indices"
   ],
   "metadata": {
    "collapsed": false,
    "pycharm": {
     "name": "#%%\n"
    }
   }
  },
  {
   "cell_type": "code",
   "execution_count": 25,
   "outputs": [],
   "source": [
    "foodDistrict = melted_train[[\"food\", \"district\"]].drop_duplicates()\n",
    "foodDistrict.reset_index(inplace=True)\n",
    "foodDistrict.drop(columns=\"index\", inplace=True)"
   ],
   "metadata": {
    "collapsed": false,
    "pycharm": {
     "name": "#%%\n"
    }
   }
  },
  {
   "cell_type": "code",
   "execution_count": 86,
   "outputs": [],
   "source": [
    "X_cross = test_indices.merge(foodDistrict, how=\"cross\")\n",
    "X_cross = X_cross.merge(fitted_df, on=\"year_weeks\", how=\"inner\")\n",
    "X_test_df = pd.concat([pd.get_dummies(X_cross[\"month\"]),\n",
    "                       # pd.get_dummies(X_cross[\"day\"]),\n",
    "                       # pd.get_dummies(X_cross[\"season\"]),\n",
    "                       # X_cross[\"Temperature\"],\n",
    "                       # X_cross[\"Relative Humidity\"],\n",
    "                       # X_cross[\"Wind Speed\"],\n",
    "                       # X_cross[\"Wind Direction\"],\n",
    "                       pd.get_dummies(X_cross[\"food\"]),\n",
    "                       pd.get_dummies(X_cross[\"district\"])], axis=1)\n",
    "X_test = X_test_df.to_numpy()\n",
    "# print(X_test)"
   ],
   "metadata": {
    "collapsed": false,
    "pycharm": {
     "name": "#%%\n"
    }
   }
  },
  {
   "cell_type": "code",
   "execution_count": 87,
   "outputs": [],
   "source": [
    "Y_pred = model.predict(X_test)\n",
    "Y_pred = np.array(map(lambda x: x if x >= 0 else 0, Y_pred))\n",
    "X_cross[\"pred\"] = Y_pred\n",
    "for e in zeros:\n",
    "    food, location = e.split(\"_\")\n",
    "    X_cross.loc[(X_cross[\"food\"] == food) & (X_cross[\"district\"] == location), [\"pred\"]] = 0\n",
    "Y_pred = X_cross[\"pred\"].to_numpy()\n",
    "\n",
    "# X_cross\n",
    "\n"
   ],
   "metadata": {
    "collapsed": false,
    "pycharm": {
     "name": "#%%\n"
    }
   }
  },
  {
   "cell_type": "code",
   "execution_count": 66,
   "outputs": [
    {
     "ename": "NameError",
     "evalue": "name 'bst' is not defined",
     "output_type": "error",
     "traceback": [
      "\u001B[0;31m---------------------------------------------------------------------------\u001B[0m",
      "\u001B[0;31mNameError\u001B[0m                                 Traceback (most recent call last)",
      "Input \u001B[0;32mIn [66]\u001B[0m, in \u001B[0;36m<cell line: 1>\u001B[0;34m()\u001B[0m\n\u001B[0;32m----> 1\u001B[0m Y_pred \u001B[38;5;241m=\u001B[39m \u001B[43mbst\u001B[49m\u001B[38;5;241m.\u001B[39mpredict(xgb\u001B[38;5;241m.\u001B[39mDMatrix(X_test))\n",
      "\u001B[0;31mNameError\u001B[0m: name 'bst' is not defined"
     ]
    }
   ],
   "source": [
    "Y_pred = bst.predict(xgb.DMatrix(X_test))"
   ],
   "metadata": {
    "collapsed": false,
    "pycharm": {
     "name": "#%%\n"
    }
   }
  },
  {
   "cell_type": "code",
   "execution_count": 88,
   "outputs": [],
   "source": [
    "X_cross[\"Weight\"] = Y_pred"
   ],
   "metadata": {
    "collapsed": false,
    "pycharm": {
     "name": "#%%\n"
    }
   }
  },
  {
   "cell_type": "code",
   "execution_count": 89,
   "outputs": [
    {
     "data": {
      "text/plain": "                  year_weeks  month  day  season    food       district  \\\n0      2020-01-13/2020-01-19      1   19  winter   other  יהודה ושומרון   \n1      2020-01-13/2020-01-19      1   19  winter   other     מחוז הדרום   \n2      2020-01-13/2020-01-19      1   19  winter   other     מחוז המרכז   \n3      2020-01-13/2020-01-19      1   19  winter   other     מחוז הצפון   \n4      2020-01-13/2020-01-19      1   19  winter   other      מחוז חיפה   \n...                      ...    ...  ...     ...     ...            ...   \n24623  2022-07-11/2022-07-17      7   17  summer  תפוחים     מחוז הדרום   \n24624  2022-07-11/2022-07-17      7   17  summer  תפוחים     מחוז המרכז   \n24625  2022-07-11/2022-07-17      7   17  summer  תפוחים     מחוז הצפון   \n24626  2022-07-11/2022-07-17      7   17  summer  תפוחים      מחוז חיפה   \n24627  2022-07-11/2022-07-17      7   17  summer  תפוחים   מחוז תל אביב   \n\n       Temperature  Relative Humidity  Wind Speed  Wind Direction  \\\n0         5.953981          68.345238    9.402214      173.161423   \n1         5.953981          68.345238    9.402214      173.161423   \n2         5.953981          68.345238    9.402214      173.161423   \n3         5.953981          68.345238    9.402214      173.161423   \n4         5.953981          68.345238    9.402214      173.161423   \n...            ...                ...         ...             ...   \n24623    23.255172          45.988095    7.823682      153.208377   \n24624    23.255172          45.988095    7.823682      153.208377   \n24625    23.255172          45.988095    7.823682      153.208377   \n24626    23.255172          45.988095    7.823682      153.208377   \n24627    23.255172          45.988095    7.823682      153.208377   \n\n              pred       Weight  \n0        35.128074    35.128074  \n1      3287.244681  3287.244681  \n2      2350.678723  2350.678723  \n3      3592.255319  3592.255319  \n4       369.617761   369.617761  \n...            ...          ...  \n24623   702.671905   702.671905  \n24624   634.632296   634.632296  \n24625   289.346311   289.346311  \n24626   220.597037   220.597037  \n24627    35.128074    35.128074  \n\n[24628 rows x 12 columns]",
      "text/html": "<div>\n<style scoped>\n    .dataframe tbody tr th:only-of-type {\n        vertical-align: middle;\n    }\n\n    .dataframe tbody tr th {\n        vertical-align: top;\n    }\n\n    .dataframe thead th {\n        text-align: right;\n    }\n</style>\n<table border=\"1\" class=\"dataframe\">\n  <thead>\n    <tr style=\"text-align: right;\">\n      <th></th>\n      <th>year_weeks</th>\n      <th>month</th>\n      <th>day</th>\n      <th>season</th>\n      <th>food</th>\n      <th>district</th>\n      <th>Temperature</th>\n      <th>Relative Humidity</th>\n      <th>Wind Speed</th>\n      <th>Wind Direction</th>\n      <th>pred</th>\n      <th>Weight</th>\n    </tr>\n  </thead>\n  <tbody>\n    <tr>\n      <th>0</th>\n      <td>2020-01-13/2020-01-19</td>\n      <td>1</td>\n      <td>19</td>\n      <td>winter</td>\n      <td>other</td>\n      <td>יהודה ושומרון</td>\n      <td>5.953981</td>\n      <td>68.345238</td>\n      <td>9.402214</td>\n      <td>173.161423</td>\n      <td>35.128074</td>\n      <td>35.128074</td>\n    </tr>\n    <tr>\n      <th>1</th>\n      <td>2020-01-13/2020-01-19</td>\n      <td>1</td>\n      <td>19</td>\n      <td>winter</td>\n      <td>other</td>\n      <td>מחוז הדרום</td>\n      <td>5.953981</td>\n      <td>68.345238</td>\n      <td>9.402214</td>\n      <td>173.161423</td>\n      <td>3287.244681</td>\n      <td>3287.244681</td>\n    </tr>\n    <tr>\n      <th>2</th>\n      <td>2020-01-13/2020-01-19</td>\n      <td>1</td>\n      <td>19</td>\n      <td>winter</td>\n      <td>other</td>\n      <td>מחוז המרכז</td>\n      <td>5.953981</td>\n      <td>68.345238</td>\n      <td>9.402214</td>\n      <td>173.161423</td>\n      <td>2350.678723</td>\n      <td>2350.678723</td>\n    </tr>\n    <tr>\n      <th>3</th>\n      <td>2020-01-13/2020-01-19</td>\n      <td>1</td>\n      <td>19</td>\n      <td>winter</td>\n      <td>other</td>\n      <td>מחוז הצפון</td>\n      <td>5.953981</td>\n      <td>68.345238</td>\n      <td>9.402214</td>\n      <td>173.161423</td>\n      <td>3592.255319</td>\n      <td>3592.255319</td>\n    </tr>\n    <tr>\n      <th>4</th>\n      <td>2020-01-13/2020-01-19</td>\n      <td>1</td>\n      <td>19</td>\n      <td>winter</td>\n      <td>other</td>\n      <td>מחוז חיפה</td>\n      <td>5.953981</td>\n      <td>68.345238</td>\n      <td>9.402214</td>\n      <td>173.161423</td>\n      <td>369.617761</td>\n      <td>369.617761</td>\n    </tr>\n    <tr>\n      <th>...</th>\n      <td>...</td>\n      <td>...</td>\n      <td>...</td>\n      <td>...</td>\n      <td>...</td>\n      <td>...</td>\n      <td>...</td>\n      <td>...</td>\n      <td>...</td>\n      <td>...</td>\n      <td>...</td>\n      <td>...</td>\n    </tr>\n    <tr>\n      <th>24623</th>\n      <td>2022-07-11/2022-07-17</td>\n      <td>7</td>\n      <td>17</td>\n      <td>summer</td>\n      <td>תפוחים</td>\n      <td>מחוז הדרום</td>\n      <td>23.255172</td>\n      <td>45.988095</td>\n      <td>7.823682</td>\n      <td>153.208377</td>\n      <td>702.671905</td>\n      <td>702.671905</td>\n    </tr>\n    <tr>\n      <th>24624</th>\n      <td>2022-07-11/2022-07-17</td>\n      <td>7</td>\n      <td>17</td>\n      <td>summer</td>\n      <td>תפוחים</td>\n      <td>מחוז המרכז</td>\n      <td>23.255172</td>\n      <td>45.988095</td>\n      <td>7.823682</td>\n      <td>153.208377</td>\n      <td>634.632296</td>\n      <td>634.632296</td>\n    </tr>\n    <tr>\n      <th>24625</th>\n      <td>2022-07-11/2022-07-17</td>\n      <td>7</td>\n      <td>17</td>\n      <td>summer</td>\n      <td>תפוחים</td>\n      <td>מחוז הצפון</td>\n      <td>23.255172</td>\n      <td>45.988095</td>\n      <td>7.823682</td>\n      <td>153.208377</td>\n      <td>289.346311</td>\n      <td>289.346311</td>\n    </tr>\n    <tr>\n      <th>24626</th>\n      <td>2022-07-11/2022-07-17</td>\n      <td>7</td>\n      <td>17</td>\n      <td>summer</td>\n      <td>תפוחים</td>\n      <td>מחוז חיפה</td>\n      <td>23.255172</td>\n      <td>45.988095</td>\n      <td>7.823682</td>\n      <td>153.208377</td>\n      <td>220.597037</td>\n      <td>220.597037</td>\n    </tr>\n    <tr>\n      <th>24627</th>\n      <td>2022-07-11/2022-07-17</td>\n      <td>7</td>\n      <td>17</td>\n      <td>summer</td>\n      <td>תפוחים</td>\n      <td>מחוז תל אביב</td>\n      <td>23.255172</td>\n      <td>45.988095</td>\n      <td>7.823682</td>\n      <td>153.208377</td>\n      <td>35.128074</td>\n      <td>35.128074</td>\n    </tr>\n  </tbody>\n</table>\n<p>24628 rows × 12 columns</p>\n</div>"
     },
     "execution_count": 89,
     "metadata": {},
     "output_type": "execute_result"
    }
   ],
   "source": [
    "X_cross"
   ],
   "metadata": {
    "collapsed": false,
    "pycharm": {
     "name": "#%%\n"
    }
   }
  },
  {
   "cell_type": "code",
   "execution_count": 90,
   "outputs": [
    {
     "name": "stdout",
     "output_type": "stream",
     "text": [
      "concat\n",
      "stacked\n"
     ]
    }
   ],
   "source": [
    "def revert(df):\n",
    "    df = pd.concat([df[\"year_weeks\"], df[[\"food\", \"district\"]].apply(lambda x: f\"{x[0]}_{x[1]}\", axis=1).rename(\"placeXfood\"), df[\"Weight\"]], axis=1)\n",
    "    print(\"concat\")\n",
    "    df = df.set_index([\"year_weeks\", \"placeXfood\"])[\"Weight\"].unstack()\n",
    "    print(\"stacked\")\n",
    "    df.columns.name = None\n",
    "    return df\n",
    "finaldf = revert(X_cross[[\"year_weeks\", \"food\", \"district\", \"Weight\"]])"
   ],
   "metadata": {
    "collapsed": false,
    "pycharm": {
     "name": "#%%\n"
    }
   }
  },
  {
   "cell_type": "code",
   "execution_count": 91,
   "outputs": [],
   "source": [
    "finaldf.to_csv(\"Answers.csv\")"
   ],
   "metadata": {
    "collapsed": false,
    "pycharm": {
     "name": "#%%\n"
    }
   }
  },
  {
   "cell_type": "code",
   "execution_count": 13,
   "outputs": [],
   "source": [],
   "metadata": {
    "collapsed": false,
    "pycharm": {
     "name": "#%%\n"
    }
   }
  }
 ],
 "metadata": {
  "kernelspec": {
   "display_name": "Python 3",
   "language": "python",
   "name": "python3"
  },
  "language_info": {
   "codemirror_mode": {
    "name": "ipython",
    "version": 2
   },
   "file_extension": ".py",
   "mimetype": "text/x-python",
   "name": "python",
   "nbconvert_exporter": "python",
   "pygments_lexer": "ipython2",
   "version": "2.7.6"
  }
 },
 "nbformat": 4,
 "nbformat_minor": 0
}