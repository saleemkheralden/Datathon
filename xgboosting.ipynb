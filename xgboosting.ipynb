{
 "cells": [
  {
   "cell_type": "code",
   "execution_count": 222,
   "outputs": [],
   "source": [
    "from datetime import datetime as dt\n",
    "\n",
    "import matplotlib.pyplot as plt\n",
    "\n",
    "from sklearn.tree import DecisionTreeRegressor as dtr\n",
    "from sklearn.ensemble import RandomForestRegressor as rfr\n",
    "from sklearn.ensemble import GradientBoostingRegressor as gbr\n",
    "\n",
    "from sklearn.metrics import mean_squared_error\n",
    "import numpy as np\n",
    "import pandas as pd\n",
    "\n",
    "import xgboost as xgb\n",
    "from sklearn.model_selection import train_test_split\n",
    "\n",
    "url='https://drive.google.com/file/d/1-4YpXkd2kIOM5viSRw8g7oOQm8sicciB/view?usp=sharing'\n",
    "url='https://drive.google.com/uc?id=' + url.split('/')[-2]\n",
    "y_train = pd.read_csv(url, index_col=0)\n",
    "\n",
    "url='https://drive.google.com/file/d/1-7VK3dNry2-AYnfRsxMWsOKhHHMTN_ZA/view?usp=sharing'\n",
    "url='https://drive.google.com/uc?id=' + url.split('/')[-2]\n",
    "test_indices = pd.read_csv(url, index_col=0)"
   ],
   "metadata": {
    "collapsed": false,
    "pycharm": {
     "name": "#%%\n"
    }
   }
  },
  {
   "cell_type": "code",
   "execution_count": 223,
   "outputs": [],
   "source": [
    "def month_to_season(month: int):\n",
    "    if month < 4:\n",
    "        return \"winter\"\n",
    "    elif month < 7:\n",
    "        return \"spring\"\n",
    "    elif month < 10:\n",
    "        return \"summer\"\n",
    "    elif month < 13:\n",
    "        return \"fall\""
   ],
   "metadata": {
    "collapsed": false,
    "pycharm": {
     "name": "#%%\n"
    }
   }
  },
  {
   "cell_type": "code",
   "execution_count": 224,
   "outputs": [],
   "source": [
    "df = pd.read_csv(\"weather.csv\")"
   ],
   "metadata": {
    "collapsed": false,
    "pycharm": {
     "name": "#%%\n"
    }
   }
  },
  {
   "cell_type": "code",
   "execution_count": 225,
   "outputs": [],
   "source": [
    "df[\"timestamp\"] = df[[\"timestamp\"]].apply(lambda x: f\"{x[0][0:4]}-{x[0][4:6]}-{x[0][6:8]}\", axis=1)"
   ],
   "metadata": {
    "collapsed": false,
    "pycharm": {
     "name": "#%%\n"
    }
   }
  },
  {
   "cell_type": "code",
   "execution_count": 226,
   "outputs": [],
   "source": [
    "# df[[\"timestamp\"]].apply(lambda x: f\"{x[0][0:4]}-{x[0][4:6]}-{x[0][6:8]}\", axis=1)\n",
    "df = df.groupby(\"timestamp\").mean()\n",
    "df = df[df.index >= \"2009-12-28\"]"
   ],
   "metadata": {
    "collapsed": false,
    "pycharm": {
     "name": "#%%\n"
    }
   }
  },
  {
   "cell_type": "code",
   "execution_count": 227,
   "outputs": [],
   "source": [
    "fitted_df = pd.DataFrame(df.iloc[0:7].sum() / 7, columns=[f\"{df.index[0]}/{df.index[6]}\"]).transpose()\n",
    "for i in range(7, len(df.index), 7):\n",
    "    fitted_df = pd.concat([fitted_df, pd.DataFrame(df.iloc[i:i + 7].sum() / 7, columns=[f\"{df.index[i]}/{df.index[i + 6]}\"]).transpose()])"
   ],
   "metadata": {
    "collapsed": false,
    "pycharm": {
     "name": "#%%\n"
    }
   }
  },
  {
   "cell_type": "code",
   "execution_count": 228,
   "outputs": [],
   "source": [
    "fitted_df.index.name=\"year_weeks\""
   ],
   "metadata": {
    "collapsed": false,
    "pycharm": {
     "name": "#%%\n"
    }
   }
  },
  {
   "cell_type": "code",
   "execution_count": 229,
   "outputs": [],
   "source": [
    "y_train = pd.concat([y_train, fitted_df.iloc[0:len(y_train.index)]], axis=1)\n",
    "y_train.index.name = \"year_weeks\""
   ],
   "metadata": {
    "collapsed": false,
    "pycharm": {
     "name": "#%%\n"
    }
   }
  },
  {
   "cell_type": "code",
   "execution_count": 244,
   "outputs": [],
   "source": [
    "train = y_train.reset_index()\n",
    "melted_train = pd.melt(train, id_vars=[\"year_weeks\", \"Temperature\", \"Relative Humidity\", \"Wind Speed\", \"Wind Direction\"], var_name=\"City\", value_name=\"Weight\")\n",
    "melted_train[\"temp\"] = melted_train[[\"City\"]].apply(lambda x: x[0].split(\"_\"), axis=1)\n",
    "melted_train[[\"food\", \"district\"]] = pd.DataFrame(melted_train[\"temp\"].tolist())\n",
    "\n",
    "melted_train[\"month\"] = list(map(lambda x: int(x.split(\"/\")[1].split(\"-\")[1]), melted_train.year_weeks))\n",
    "melted_train[\"day\"] = list(map(lambda x: int(x.split(\"/\")[1].split(\"-\")[2]), melted_train.year_weeks))\n",
    "melted_train[\"season\"] = list(map(lambda x: month_to_season(x), melted_train.month))\n",
    "\n",
    "melted_train = melted_train[[\"year_weeks\", \"month\", \"day\", \"season\", \"year_weeks\", \"Temperature\",\n",
    "                             \"Relative Humidity\", \"Wind Speed\", \"Wind Direction\", \"food\", \"district\", \"Weight\"]]\n",
    "\n",
    "X_train_df = pd.concat([pd.get_dummies(melted_train[\"month\"]),\n",
    "                        # pd.get_dummies(melted_train[\"day\"]),\n",
    "                        # pd.get_dummies(melted_train[\"season\"]),\n",
    "                        # melted_train[\"Temperature\"],\n",
    "                        # melted_train[\"Relative Humidity\"],\n",
    "                        # melted_train[\"Wind Speed\"],\n",
    "                        # melted_train[\"Wind Direction\"],\n",
    "                        pd.get_dummies(melted_train[\"food\"]),\n",
    "                        pd.get_dummies(melted_train[\"district\"])], axis=1)\n",
    "\n",
    "X_train = X_train_df.to_numpy()\n",
    "Y_train = melted_train[\"Weight\"].to_numpy()\n"
   ],
   "metadata": {
    "collapsed": false,
    "pycharm": {
     "name": "#%%\n"
    }
   }
  },
  {
   "cell_type": "code",
   "execution_count": 245,
   "outputs": [],
   "source": [
    "ddd = pd.DataFrame(y_train.sum(), columns=[\"sum\"])\n",
    "zeros = ddd[ddd[\"sum\"] == 0].index.tolist()"
   ],
   "metadata": {
    "collapsed": false,
    "pycharm": {
     "name": "#%%\n"
    }
   }
  },
  {
   "cell_type": "code",
   "execution_count": 246,
   "outputs": [],
   "source": [
    "X_train_08, X_test_02, Y_train_08, Y_test_02 = train_test_split(X_train, Y_train, test_size=0.2, random_state=0)\n",
    "\n",
    "\n",
    "param = {'max_depth': 5, 'eta': 0.74, 'gamma': 0.2, 'objective': 'reg:tweedie'}\n",
    "param['nthread'] = 8\n",
    "param['eval_metric'] = 'auc'\n",
    "\n",
    "# dtrain = xgb.DMatrix(X_train_08, label=Y_train_08)\n",
    "dtrain = xgb.DMatrix(X_train, label=Y_train)\n",
    "\n",
    "num_rounds = 81\n",
    "bst = xgb.train(param, dtrain, num_rounds)\n",
    "# print(X_train_08)"
   ],
   "metadata": {
    "collapsed": false,
    "pycharm": {
     "name": "#%%\n"
    }
   }
  },
  {
   "cell_type": "code",
   "execution_count": 247,
   "outputs": [],
   "source": [
    "dval = xgb.DMatrix(X_train)\n",
    "# bst.predict(dtest)"
   ],
   "metadata": {
    "collapsed": false,
    "pycharm": {
     "name": "#%%\n"
    }
   }
  },
  {
   "cell_type": "code",
   "execution_count": 248,
   "outputs": [],
   "source": [
    "Y_pred = bst.predict(dval)\n",
    "Y_pred = np.array(map(lambda x: x if x >= 0 else 0, Y_pred))\n",
    "melted_train[\"pred\"] = Y_pred\n",
    "for e in zeros:\n",
    "    food, location = e.split(\"_\")\n",
    "    melted_train.loc[(melted_train[\"food\"] == food) & (melted_train[\"district\"] == location), [\"pred\"]] = 0\n",
    "Y_pred = melted_train[\"pred\"].to_numpy()"
   ],
   "metadata": {
    "collapsed": false,
    "pycharm": {
     "name": "#%%\n"
    }
   }
  },
  {
   "cell_type": "code",
   "execution_count": 249,
   "outputs": [
    {
     "data": {
      "text/plain": "5616.7362071307425"
     },
     "execution_count": 249,
     "metadata": {},
     "output_type": "execute_result"
    }
   ],
   "source": [
    "mean_squared_error(Y_train, Y_pred, squared=False)"
   ],
   "metadata": {
    "collapsed": false,
    "pycharm": {
     "name": "#%%\n"
    }
   }
  },
  {
   "cell_type": "code",
   "execution_count": 250,
   "outputs": [],
   "source": [
    "test_indices.reset_index(inplace=True)\n",
    "if \"index\" in test_indices.columns:\n",
    "    test_indices.drop(columns=[\"index\"], inplace=True)\n",
    "test_indices[\"month\"] = list(map(lambda x: int(x.split(\"/\")[1].split(\"-\")[1]), test_indices.year_weeks))\n",
    "test_indices[\"day\"] = list(map(lambda x: int(x.split(\"/\")[1].split(\"-\")[2]), test_indices.year_weeks))\n",
    "test_indices[\"season\"] = list(map(lambda x: month_to_season(x), test_indices.month))"
   ],
   "metadata": {
    "collapsed": false,
    "pycharm": {
     "name": "#%%\n"
    }
   }
  },
  {
   "cell_type": "code",
   "execution_count": 251,
   "outputs": [],
   "source": [
    "foodDistrict = melted_train[[\"food\", \"district\"]].drop_duplicates()\n",
    "foodDistrict.reset_index(inplace=True)\n",
    "foodDistrict.drop(columns=\"index\", inplace=True)"
   ],
   "metadata": {
    "collapsed": false,
    "pycharm": {
     "name": "#%%\n"
    }
   }
  },
  {
   "cell_type": "code",
   "execution_count": 252,
   "outputs": [],
   "source": [
    "X_cross = test_indices.merge(foodDistrict, how=\"cross\")\n",
    "X_cross = X_cross.merge(fitted_df, on=\"year_weeks\", how=\"inner\")\n",
    "X_test_df = pd.concat([pd.get_dummies(X_cross[\"month\"]),\n",
    "                       # pd.get_dummies(X_cross[\"day\"]),\n",
    "                       # pd.get_dummies(X_cross[\"season\"]),\n",
    "                       # X_cross[\"Temperature\"],\n",
    "                       # X_cross[\"Relative Humidity\"],\n",
    "                       # X_cross[\"Wind Speed\"],\n",
    "                       # X_cross[\"Wind Direction\"],\n",
    "                       pd.get_dummies(X_cross[\"food\"]),\n",
    "                       pd.get_dummies(X_cross[\"district\"])], axis=1)\n",
    "X_test = X_test_df.to_numpy()\n",
    "# print(X_test)"
   ],
   "metadata": {
    "collapsed": false,
    "pycharm": {
     "name": "#%%\n"
    }
   }
  },
  {
   "cell_type": "code",
   "execution_count": 253,
   "outputs": [
    {
     "name": "stdout",
     "output_type": "stream",
     "text": [
      "predicting\n",
      "predicted\n",
      "added to x_cross\n",
      "zeros\n"
     ]
    }
   ],
   "source": [
    "print('predicting')\n",
    "Y_pred = bst.predict(xgb.DMatrix(X_test))\n",
    "Y_pred = np.array(map(lambda x: x if x >= 0 else 0, Y_pred))\n",
    "print(\"predicted\")\n",
    "X_cross[\"pred\"] = Y_pred\n",
    "print(\"added to x_cross\")\n",
    "for e in zeros:\n",
    "    food, location = e.split(\"_\")\n",
    "    X_cross.loc[(X_cross[\"food\"] == food) & (X_cross[\"district\"] == location), [\"pred\"]] = 0\n",
    "print(\"zeros\")\n",
    "Y_pred = X_cross[\"pred\"].to_numpy()"
   ],
   "metadata": {
    "collapsed": false,
    "pycharm": {
     "name": "#%%\n"
    }
   }
  },
  {
   "cell_type": "code",
   "execution_count": 254,
   "outputs": [],
   "source": [
    "X_cross[\"Weight\"] = Y_pred"
   ],
   "metadata": {
    "collapsed": false,
    "pycharm": {
     "name": "#%%\n"
    }
   }
  },
  {
   "cell_type": "code",
   "execution_count": 255,
   "outputs": [
    {
     "data": {
      "text/plain": "                  year_weeks  month  day  season    food       district  \\\n0      2020-01-13/2020-01-19      1   19  winter   other  יהודה ושומרון   \n1      2020-01-13/2020-01-19      1   19  winter   other     מחוז הדרום   \n2      2020-01-13/2020-01-19      1   19  winter   other     מחוז המרכז   \n3      2020-01-13/2020-01-19      1   19  winter   other     מחוז הצפון   \n4      2020-01-13/2020-01-19      1   19  winter   other      מחוז חיפה   \n...                      ...    ...  ...     ...     ...            ...   \n24623  2022-07-11/2022-07-17      7   17  summer  תפוחים     מחוז הדרום   \n24624  2022-07-11/2022-07-17      7   17  summer  תפוחים     מחוז המרכז   \n24625  2022-07-11/2022-07-17      7   17  summer  תפוחים     מחוז הצפון   \n24626  2022-07-11/2022-07-17      7   17  summer  תפוחים      מחוז חיפה   \n24627  2022-07-11/2022-07-17      7   17  summer  תפוחים   מחוז תל אביב   \n\n       Temperature  Relative Humidity  Wind Speed  Wind Direction  \\\n0         5.953981          68.345238    9.402214      173.161423   \n1         5.953981          68.345238    9.402214      173.161423   \n2         5.953981          68.345238    9.402214      173.161423   \n3         5.953981          68.345238    9.402214      173.161423   \n4         5.953981          68.345238    9.402214      173.161423   \n...            ...                ...         ...             ...   \n24623    23.255172          45.988095    7.823682      153.208377   \n24624    23.255172          45.988095    7.823682      153.208377   \n24625    23.255172          45.988095    7.823682      153.208377   \n24626    23.255172          45.988095    7.823682      153.208377   \n24627    23.255172          45.988095    7.823682      153.208377   \n\n              pred       Weight  \n0         5.506851     5.506851  \n1      2162.872559  2162.872559  \n2      1798.610229  1798.610229  \n3      2881.233643  2881.233643  \n4       294.028931   294.028931  \n...            ...          ...  \n24623   500.202972   500.202972  \n24624   135.008774   135.008774  \n24625  1035.848755  1035.848755  \n24626   330.787445   330.787445  \n24627     1.852357     1.852357  \n\n[24628 rows x 12 columns]",
      "text/html": "<div>\n<style scoped>\n    .dataframe tbody tr th:only-of-type {\n        vertical-align: middle;\n    }\n\n    .dataframe tbody tr th {\n        vertical-align: top;\n    }\n\n    .dataframe thead th {\n        text-align: right;\n    }\n</style>\n<table border=\"1\" class=\"dataframe\">\n  <thead>\n    <tr style=\"text-align: right;\">\n      <th></th>\n      <th>year_weeks</th>\n      <th>month</th>\n      <th>day</th>\n      <th>season</th>\n      <th>food</th>\n      <th>district</th>\n      <th>Temperature</th>\n      <th>Relative Humidity</th>\n      <th>Wind Speed</th>\n      <th>Wind Direction</th>\n      <th>pred</th>\n      <th>Weight</th>\n    </tr>\n  </thead>\n  <tbody>\n    <tr>\n      <th>0</th>\n      <td>2020-01-13/2020-01-19</td>\n      <td>1</td>\n      <td>19</td>\n      <td>winter</td>\n      <td>other</td>\n      <td>יהודה ושומרון</td>\n      <td>5.953981</td>\n      <td>68.345238</td>\n      <td>9.402214</td>\n      <td>173.161423</td>\n      <td>5.506851</td>\n      <td>5.506851</td>\n    </tr>\n    <tr>\n      <th>1</th>\n      <td>2020-01-13/2020-01-19</td>\n      <td>1</td>\n      <td>19</td>\n      <td>winter</td>\n      <td>other</td>\n      <td>מחוז הדרום</td>\n      <td>5.953981</td>\n      <td>68.345238</td>\n      <td>9.402214</td>\n      <td>173.161423</td>\n      <td>2162.872559</td>\n      <td>2162.872559</td>\n    </tr>\n    <tr>\n      <th>2</th>\n      <td>2020-01-13/2020-01-19</td>\n      <td>1</td>\n      <td>19</td>\n      <td>winter</td>\n      <td>other</td>\n      <td>מחוז המרכז</td>\n      <td>5.953981</td>\n      <td>68.345238</td>\n      <td>9.402214</td>\n      <td>173.161423</td>\n      <td>1798.610229</td>\n      <td>1798.610229</td>\n    </tr>\n    <tr>\n      <th>3</th>\n      <td>2020-01-13/2020-01-19</td>\n      <td>1</td>\n      <td>19</td>\n      <td>winter</td>\n      <td>other</td>\n      <td>מחוז הצפון</td>\n      <td>5.953981</td>\n      <td>68.345238</td>\n      <td>9.402214</td>\n      <td>173.161423</td>\n      <td>2881.233643</td>\n      <td>2881.233643</td>\n    </tr>\n    <tr>\n      <th>4</th>\n      <td>2020-01-13/2020-01-19</td>\n      <td>1</td>\n      <td>19</td>\n      <td>winter</td>\n      <td>other</td>\n      <td>מחוז חיפה</td>\n      <td>5.953981</td>\n      <td>68.345238</td>\n      <td>9.402214</td>\n      <td>173.161423</td>\n      <td>294.028931</td>\n      <td>294.028931</td>\n    </tr>\n    <tr>\n      <th>...</th>\n      <td>...</td>\n      <td>...</td>\n      <td>...</td>\n      <td>...</td>\n      <td>...</td>\n      <td>...</td>\n      <td>...</td>\n      <td>...</td>\n      <td>...</td>\n      <td>...</td>\n      <td>...</td>\n      <td>...</td>\n    </tr>\n    <tr>\n      <th>24623</th>\n      <td>2022-07-11/2022-07-17</td>\n      <td>7</td>\n      <td>17</td>\n      <td>summer</td>\n      <td>תפוחים</td>\n      <td>מחוז הדרום</td>\n      <td>23.255172</td>\n      <td>45.988095</td>\n      <td>7.823682</td>\n      <td>153.208377</td>\n      <td>500.202972</td>\n      <td>500.202972</td>\n    </tr>\n    <tr>\n      <th>24624</th>\n      <td>2022-07-11/2022-07-17</td>\n      <td>7</td>\n      <td>17</td>\n      <td>summer</td>\n      <td>תפוחים</td>\n      <td>מחוז המרכז</td>\n      <td>23.255172</td>\n      <td>45.988095</td>\n      <td>7.823682</td>\n      <td>153.208377</td>\n      <td>135.008774</td>\n      <td>135.008774</td>\n    </tr>\n    <tr>\n      <th>24625</th>\n      <td>2022-07-11/2022-07-17</td>\n      <td>7</td>\n      <td>17</td>\n      <td>summer</td>\n      <td>תפוחים</td>\n      <td>מחוז הצפון</td>\n      <td>23.255172</td>\n      <td>45.988095</td>\n      <td>7.823682</td>\n      <td>153.208377</td>\n      <td>1035.848755</td>\n      <td>1035.848755</td>\n    </tr>\n    <tr>\n      <th>24626</th>\n      <td>2022-07-11/2022-07-17</td>\n      <td>7</td>\n      <td>17</td>\n      <td>summer</td>\n      <td>תפוחים</td>\n      <td>מחוז חיפה</td>\n      <td>23.255172</td>\n      <td>45.988095</td>\n      <td>7.823682</td>\n      <td>153.208377</td>\n      <td>330.787445</td>\n      <td>330.787445</td>\n    </tr>\n    <tr>\n      <th>24627</th>\n      <td>2022-07-11/2022-07-17</td>\n      <td>7</td>\n      <td>17</td>\n      <td>summer</td>\n      <td>תפוחים</td>\n      <td>מחוז תל אביב</td>\n      <td>23.255172</td>\n      <td>45.988095</td>\n      <td>7.823682</td>\n      <td>153.208377</td>\n      <td>1.852357</td>\n      <td>1.852357</td>\n    </tr>\n  </tbody>\n</table>\n<p>24628 rows × 12 columns</p>\n</div>"
     },
     "execution_count": 255,
     "metadata": {},
     "output_type": "execute_result"
    }
   ],
   "source": [
    "X_cross"
   ],
   "metadata": {
    "collapsed": false,
    "pycharm": {
     "name": "#%%\n"
    }
   }
  },
  {
   "cell_type": "code",
   "execution_count": 256,
   "outputs": [
    {
     "name": "stdout",
     "output_type": "stream",
     "text": [
      "concat\n",
      "stacked\n"
     ]
    }
   ],
   "source": [
    "def revert(df):\n",
    "    df = pd.concat([df[\"year_weeks\"], df[[\"food\", \"district\"]].apply(lambda x: f\"{x[0]}_{x[1]}\", axis=1).rename(\"placeXfood\"), df[\"Weight\"]], axis=1)\n",
    "    print(\"concat\")\n",
    "    df = df.set_index([\"year_weeks\", \"placeXfood\"])[\"Weight\"].unstack()\n",
    "    print(\"stacked\")\n",
    "    df.columns.name = None\n",
    "    return df\n",
    "finaldf = revert(X_cross[[\"year_weeks\", \"food\", \"district\", \"Weight\"]])"
   ],
   "metadata": {
    "collapsed": false,
    "pycharm": {
     "name": "#%%\n"
    }
   }
  },
  {
   "cell_type": "code",
   "execution_count": 257,
   "outputs": [],
   "source": [
    "finaldf.to_csv(\"Answers.csv\")"
   ],
   "metadata": {
    "collapsed": false,
    "pycharm": {
     "name": "#%%\n"
    }
   }
  },
  {
   "cell_type": "code",
   "execution_count": 257,
   "outputs": [],
   "source": [],
   "metadata": {
    "collapsed": false,
    "pycharm": {
     "name": "#%%\n"
    }
   }
  }
 ],
 "metadata": {
  "kernelspec": {
   "display_name": "Python 3",
   "language": "python",
   "name": "python3"
  },
  "language_info": {
   "codemirror_mode": {
    "name": "ipython",
    "version": 2
   },
   "file_extension": ".py",
   "mimetype": "text/x-python",
   "name": "python",
   "nbconvert_exporter": "python",
   "pygments_lexer": "ipython2",
   "version": "2.7.6"
  }
 },
 "nbformat": 4,
 "nbformat_minor": 0
}