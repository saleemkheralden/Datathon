{
 "cells": [
  {
   "cell_type": "code",
   "execution_count": 75,
   "metadata": {
    "collapsed": true,
    "pycharm": {
     "name": "#%%\n"
    }
   },
   "outputs": [],
   "source": [
    "import pandas as pd"
   ]
  },
  {
   "cell_type": "code",
   "execution_count": 125,
   "outputs": [],
   "source": [
    "url='https://drive.google.com/file/d/1-4YpXkd2kIOM5viSRw8g7oOQm8sicciB/view?usp=sharing'\n",
    "url='https://drive.google.com/uc?id=' + url.split('/')[-2]\n",
    "y_train = pd.read_csv(url, index_col=0)"
   ],
   "metadata": {
    "collapsed": false,
    "pycharm": {
     "name": "#%%\n"
    }
   }
  },
  {
   "cell_type": "code",
   "execution_count": 126,
   "outputs": [],
   "source": [
    "df = pd.read_csv(\"weather.csv\")"
   ],
   "metadata": {
    "collapsed": false,
    "pycharm": {
     "name": "#%%\n"
    }
   }
  },
  {
   "cell_type": "code",
   "execution_count": 127,
   "outputs": [],
   "source": [
    "df[\"timestamp\"] = df[[\"timestamp\"]].apply(lambda x: f\"{x[0][0:4]}-{x[0][4:6]}-{x[0][6:8]}\", axis=1)"
   ],
   "metadata": {
    "collapsed": false,
    "pycharm": {
     "name": "#%%\n"
    }
   }
  },
  {
   "cell_type": "code",
   "execution_count": 128,
   "outputs": [],
   "source": [
    "# df[[\"timestamp\"]].apply(lambda x: f\"{x[0][0:4]}-{x[0][4:6]}-{x[0][6:8]}\", axis=1)\n",
    "df = df.groupby(\"timestamp\").mean()\n",
    "df = df[df.index >= \"2009-12-28\"]"
   ],
   "metadata": {
    "collapsed": false,
    "pycharm": {
     "name": "#%%\n"
    }
   }
  },
  {
   "cell_type": "code",
   "execution_count": 129,
   "outputs": [],
   "source": [
    "fitted_df = pd.DataFrame(df.iloc[0:7].sum() / 7, columns=[f\"{df.index[0]}/{df.index[6]}\"]).transpose()\n",
    "for i in range(7, len(df.index), 7):\n",
    "    fitted_df = pd.concat([fitted_df, pd.DataFrame(df.iloc[i:i + 7].sum() / 7, columns=[f\"{df.index[i]}/{df.index[i + 6]}\"]).transpose()])"
   ],
   "metadata": {
    "collapsed": false,
    "pycharm": {
     "name": "#%%\n"
    }
   }
  },
  {
   "cell_type": "code",
   "execution_count": 131,
   "outputs": [],
   "source": [
    "y_train = pd.concat([y_train, fitted_df.iloc[0:len(y_train.index)]], axis=1)\n",
    "# [[\"Temperature\", \"Relative Humidity\", \"Wind Speed\", \"Wind Direction\"]]"
   ],
   "metadata": {
    "collapsed": false,
    "pycharm": {
     "name": "#%%\n"
    }
   }
  },
  {
   "cell_type": "code",
   "execution_count": 134,
   "outputs": [],
   "source": [
    "y_train.index.name = \"year_weeks\"\n",
    "train = y_train.reset_index()\n",
    "melted_train = pd.melt(train, id_vars=[\"year_weeks\", \"Temperature\", \"Relative Humidity\", \"Wind Speed\", \"Wind Direction\"], var_name=\"City\", value_name=\"Weight\")"
   ],
   "metadata": {
    "collapsed": false,
    "pycharm": {
     "name": "#%%\n"
    }
   }
  },
  {
   "cell_type": "code",
   "execution_count": 135,
   "outputs": [
    {
     "data": {
      "text/plain": "                  year_weeks  Temperature  Relative Humidity  Wind Speed  \\\n0      2009-12-28/2010-01-03     4.735826          81.244048   14.335161   \n1      2010-01-04/2010-01-10    -1.985662          83.482143   11.878270   \n2      2010-01-11/2010-01-17     1.031541          85.232143   12.505648   \n3      2010-01-18/2010-01-24     2.734993          86.166667    7.602604   \n4      2010-01-25/2010-01-31     0.060648          80.279762   22.420379   \n...                      ...          ...                ...         ...   \n98507  2019-12-09/2019-12-15     6.024160          73.047619   22.703381   \n98508  2019-12-16/2019-12-22     8.216481          76.291667   15.119218   \n98509  2019-12-23/2019-12-29     5.708445          78.017857   16.696934   \n98510  2019-12-30/2020-01-05     4.560231          73.339286    7.786980   \n98511  2020-01-06/2020-01-12     5.954100          74.779762    8.778805   \n\n       Wind Direction                 City  Weight  \n0          192.205695  other_יהודה ושומרון     0.0  \n1          215.700145  other_יהודה ושומרון     0.0  \n2          197.820734  other_יהודה ושומרון     0.0  \n3          167.545108  other_יהודה ושומרון     0.0  \n4          225.083552  other_יהודה ושומרון     0.0  \n...               ...                  ...     ...  \n98507      228.214744  תפוחים_מחוז תל אביב     0.0  \n98508      150.711087  תפוחים_מחוז תל אביב     0.0  \n98509      212.859182  תפוחים_מחוז תל אביב     0.0  \n98510      174.625049  תפוחים_מחוז תל אביב     0.0  \n98511      176.312336  תפוחים_מחוז תל אביב     0.0  \n\n[98512 rows x 7 columns]",
      "text/html": "<div>\n<style scoped>\n    .dataframe tbody tr th:only-of-type {\n        vertical-align: middle;\n    }\n\n    .dataframe tbody tr th {\n        vertical-align: top;\n    }\n\n    .dataframe thead th {\n        text-align: right;\n    }\n</style>\n<table border=\"1\" class=\"dataframe\">\n  <thead>\n    <tr style=\"text-align: right;\">\n      <th></th>\n      <th>year_weeks</th>\n      <th>Temperature</th>\n      <th>Relative Humidity</th>\n      <th>Wind Speed</th>\n      <th>Wind Direction</th>\n      <th>City</th>\n      <th>Weight</th>\n    </tr>\n  </thead>\n  <tbody>\n    <tr>\n      <th>0</th>\n      <td>2009-12-28/2010-01-03</td>\n      <td>4.735826</td>\n      <td>81.244048</td>\n      <td>14.335161</td>\n      <td>192.205695</td>\n      <td>other_יהודה ושומרון</td>\n      <td>0.0</td>\n    </tr>\n    <tr>\n      <th>1</th>\n      <td>2010-01-04/2010-01-10</td>\n      <td>-1.985662</td>\n      <td>83.482143</td>\n      <td>11.878270</td>\n      <td>215.700145</td>\n      <td>other_יהודה ושומרון</td>\n      <td>0.0</td>\n    </tr>\n    <tr>\n      <th>2</th>\n      <td>2010-01-11/2010-01-17</td>\n      <td>1.031541</td>\n      <td>85.232143</td>\n      <td>12.505648</td>\n      <td>197.820734</td>\n      <td>other_יהודה ושומרון</td>\n      <td>0.0</td>\n    </tr>\n    <tr>\n      <th>3</th>\n      <td>2010-01-18/2010-01-24</td>\n      <td>2.734993</td>\n      <td>86.166667</td>\n      <td>7.602604</td>\n      <td>167.545108</td>\n      <td>other_יהודה ושומרון</td>\n      <td>0.0</td>\n    </tr>\n    <tr>\n      <th>4</th>\n      <td>2010-01-25/2010-01-31</td>\n      <td>0.060648</td>\n      <td>80.279762</td>\n      <td>22.420379</td>\n      <td>225.083552</td>\n      <td>other_יהודה ושומרון</td>\n      <td>0.0</td>\n    </tr>\n    <tr>\n      <th>...</th>\n      <td>...</td>\n      <td>...</td>\n      <td>...</td>\n      <td>...</td>\n      <td>...</td>\n      <td>...</td>\n      <td>...</td>\n    </tr>\n    <tr>\n      <th>98507</th>\n      <td>2019-12-09/2019-12-15</td>\n      <td>6.024160</td>\n      <td>73.047619</td>\n      <td>22.703381</td>\n      <td>228.214744</td>\n      <td>תפוחים_מחוז תל אביב</td>\n      <td>0.0</td>\n    </tr>\n    <tr>\n      <th>98508</th>\n      <td>2019-12-16/2019-12-22</td>\n      <td>8.216481</td>\n      <td>76.291667</td>\n      <td>15.119218</td>\n      <td>150.711087</td>\n      <td>תפוחים_מחוז תל אביב</td>\n      <td>0.0</td>\n    </tr>\n    <tr>\n      <th>98509</th>\n      <td>2019-12-23/2019-12-29</td>\n      <td>5.708445</td>\n      <td>78.017857</td>\n      <td>16.696934</td>\n      <td>212.859182</td>\n      <td>תפוחים_מחוז תל אביב</td>\n      <td>0.0</td>\n    </tr>\n    <tr>\n      <th>98510</th>\n      <td>2019-12-30/2020-01-05</td>\n      <td>4.560231</td>\n      <td>73.339286</td>\n      <td>7.786980</td>\n      <td>174.625049</td>\n      <td>תפוחים_מחוז תל אביב</td>\n      <td>0.0</td>\n    </tr>\n    <tr>\n      <th>98511</th>\n      <td>2020-01-06/2020-01-12</td>\n      <td>5.954100</td>\n      <td>74.779762</td>\n      <td>8.778805</td>\n      <td>176.312336</td>\n      <td>תפוחים_מחוז תל אביב</td>\n      <td>0.0</td>\n    </tr>\n  </tbody>\n</table>\n<p>98512 rows × 7 columns</p>\n</div>"
     },
     "execution_count": 135,
     "metadata": {},
     "output_type": "execute_result"
    }
   ],
   "source": [
    "melted_train"
   ],
   "metadata": {
    "collapsed": false,
    "pycharm": {
     "name": "#%%\n"
    }
   }
  },
  {
   "cell_type": "code",
   "execution_count": null,
   "outputs": [],
   "source": [],
   "metadata": {
    "collapsed": false,
    "pycharm": {
     "name": "#%%\n"
    }
   }
  }
 ],
 "metadata": {
  "kernelspec": {
   "display_name": "Python 3",
   "language": "python",
   "name": "python3"
  },
  "language_info": {
   "codemirror_mode": {
    "name": "ipython",
    "version": 2
   },
   "file_extension": ".py",
   "mimetype": "text/x-python",
   "name": "python",
   "nbconvert_exporter": "python",
   "pygments_lexer": "ipython2",
   "version": "2.7.6"
  }
 },
 "nbformat": 4,
 "nbformat_minor": 0
}