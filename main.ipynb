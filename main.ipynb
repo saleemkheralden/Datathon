{
 "cells": [
  {
   "cell_type": "code",
   "execution_count": 3,
   "outputs": [],
   "source": [
    "from datetime import datetime as dt\n",
    "\n",
    "import matplotlib.pyplot as plt\n",
    "from sklearn.tree import DecisionTreeRegressor as dtr\n",
    "from sklearn.metrics import mean_squared_error\n",
    "import numpy as np\n"
   ],
   "metadata": {
    "collapsed": false,
    "pycharm": {
     "name": "#%%\n"
    }
   }
  },
  {
   "cell_type": "code",
   "execution_count": 4,
   "metadata": {
    "collapsed": true,
    "pycharm": {
     "name": "#%%\n"
    }
   },
   "outputs": [],
   "source": [
    "import pandas as pd\n",
    "\n",
    "url='https://drive.google.com/file/d/1-4YpXkd2kIOM5viSRw8g7oOQm8sicciB/view?usp=sharing'\n",
    "url='https://drive.google.com/uc?id=' + url.split('/')[-2]\n",
    "y_train = pd.read_csv(url, index_col=0)\n",
    "\n",
    "url='https://drive.google.com/file/d/1-7VK3dNry2-AYnfRsxMWsOKhHHMTN_ZA/view?usp=sharing'\n",
    "url='https://drive.google.com/uc?id=' + url.split('/')[-2]\n",
    "test_indices = pd.read_csv(url, index_col=0)"
   ]
  },
  {
   "cell_type": "code",
   "execution_count": 5,
   "outputs": [],
   "source": [
    "# f = lambda x: x.split(\"_\")\n",
    "# y_train[:, \"\"]\n",
    "# list(map(f, y_train.columns))\n",
    "\n",
    "url='https://drive.google.com/file/d/1-07zZ5oLAJZDck0WLMGVONV62jgTtxzZ/view?usp=sharing'\n",
    "url='https://drive.google.com/uc?id=' + url.split('/')[-2]\n",
    "unprocessed_data_train = pd.read_csv(url, index_col=0)\n"
   ],
   "metadata": {
    "collapsed": false,
    "pycharm": {
     "name": "#%%\n"
    }
   }
  },
  {
   "cell_type": "code",
   "execution_count": 6,
   "outputs": [
    {
     "data": {
      "text/plain": "(344977, 6)"
     },
     "execution_count": 6,
     "metadata": {},
     "output_type": "execute_result"
    }
   ],
   "source": [
    "unprocessed_data_train.shape"
   ],
   "metadata": {
    "collapsed": false,
    "pycharm": {
     "name": "#%%\n"
    }
   }
  },
  {
   "cell_type": "code",
   "execution_count": 7,
   "outputs": [
    {
     "name": "stdout",
     "output_type": "stream",
     "text": [
      "<class 'pandas.core.frame.DataFrame'>\n",
      "Int64Index: 344977 entries, 0 to 344976\n",
      "Data columns (total 6 columns):\n",
      " #   Column            Non-Null Count   Dtype  \n",
      "---  ------            --------------   -----  \n",
      " 0   date              344977 non-null  object \n",
      " 1   location          233722 non-null  object \n",
      " 2   food              43749 non-null   object \n",
      " 3   quantity(kg)      344977 non-null  float64\n",
      " 4   very_simple_food  43749 non-null   object \n",
      " 5   district          344977 non-null  object \n",
      "dtypes: float64(1), object(5)\n",
      "memory usage: 18.4+ MB\n"
     ]
    }
   ],
   "source": [
    "unprocessed_data_train.info()"
   ],
   "metadata": {
    "collapsed": false,
    "pycharm": {
     "name": "#%%\n"
    }
   }
  },
  {
   "cell_type": "code",
   "execution_count": 8,
   "outputs": [
    {
     "data": {
      "text/plain": "date                     0\nlocation            111255\nfood                301228\nquantity(kg)             0\nvery_simple_food    301228\ndistrict                 0\ndtype: int64"
     },
     "execution_count": 8,
     "metadata": {},
     "output_type": "execute_result"
    }
   ],
   "source": [
    "unprocessed_data_train.isna().sum()"
   ],
   "metadata": {
    "collapsed": false,
    "pycharm": {
     "name": "#%%\n"
    }
   }
  },
  {
   "cell_type": "code",
   "execution_count": 9,
   "outputs": [],
   "source": [
    "df = unprocessed_data_train.dropna()"
   ],
   "metadata": {
    "collapsed": false,
    "pycharm": {
     "name": "#%%\n"
    }
   }
  },
  {
   "cell_type": "code",
   "execution_count": 10,
   "outputs": [
    {
     "data": {
      "text/plain": "              date          location           food  quantity(kg)  \\\n1       2010-01-03        קיבוץ יפעת        ברוקולי        5000.0   \n2       2010-01-03       קיבוץ הזורע       אשכוליות        1200.0   \n3       2010-01-03  קיבוץ קבוצת שילר      קלמנטינות        4300.0   \n4       2010-01-04             צופית      פלפל חריף         800.0   \n5       2010-01-04         מעלה גמלא         פומלית        7000.0   \n...            ...               ...            ...           ...   \n344917  2020-01-12            אשקלון  קלמנטינות )ד(        2280.0   \n344919  2020-01-12      קיבוץ יזרעאל        לפת )ד(        1230.0   \n344920  2020-01-12      קיבוץ יזרעאל        סלק )ד(        3420.0   \n344921  2020-01-12      קיבוץ יזרעאל       צנון )ד(        7200.0   \n344940  2020-01-12         חיבת ציון  קלמנטינות )ד(        1600.0   \n\n       very_simple_food    district  \n1                 other       other  \n2              אשכוליות  מחוז הצפון  \n3             קלמנטינות       other  \n4                 other  מחוז המרכז  \n5                פומלית  מחוז הצפון  \n...                 ...         ...  \n344917        קלמנטינות  מחוז הדרום  \n344919              לפת  מחוז הצפון  \n344920              סלק  מחוז הצפון  \n344921             צנון  מחוז הצפון  \n344940        קלמנטינות  מחוז המרכז  \n\n[43582 rows x 6 columns]",
      "text/html": "<div>\n<style scoped>\n    .dataframe tbody tr th:only-of-type {\n        vertical-align: middle;\n    }\n\n    .dataframe tbody tr th {\n        vertical-align: top;\n    }\n\n    .dataframe thead th {\n        text-align: right;\n    }\n</style>\n<table border=\"1\" class=\"dataframe\">\n  <thead>\n    <tr style=\"text-align: right;\">\n      <th></th>\n      <th>date</th>\n      <th>location</th>\n      <th>food</th>\n      <th>quantity(kg)</th>\n      <th>very_simple_food</th>\n      <th>district</th>\n    </tr>\n  </thead>\n  <tbody>\n    <tr>\n      <th>1</th>\n      <td>2010-01-03</td>\n      <td>קיבוץ יפעת</td>\n      <td>ברוקולי</td>\n      <td>5000.0</td>\n      <td>other</td>\n      <td>other</td>\n    </tr>\n    <tr>\n      <th>2</th>\n      <td>2010-01-03</td>\n      <td>קיבוץ הזורע</td>\n      <td>אשכוליות</td>\n      <td>1200.0</td>\n      <td>אשכוליות</td>\n      <td>מחוז הצפון</td>\n    </tr>\n    <tr>\n      <th>3</th>\n      <td>2010-01-03</td>\n      <td>קיבוץ קבוצת שילר</td>\n      <td>קלמנטינות</td>\n      <td>4300.0</td>\n      <td>קלמנטינות</td>\n      <td>other</td>\n    </tr>\n    <tr>\n      <th>4</th>\n      <td>2010-01-04</td>\n      <td>צופית</td>\n      <td>פלפל חריף</td>\n      <td>800.0</td>\n      <td>other</td>\n      <td>מחוז המרכז</td>\n    </tr>\n    <tr>\n      <th>5</th>\n      <td>2010-01-04</td>\n      <td>מעלה גמלא</td>\n      <td>פומלית</td>\n      <td>7000.0</td>\n      <td>פומלית</td>\n      <td>מחוז הצפון</td>\n    </tr>\n    <tr>\n      <th>...</th>\n      <td>...</td>\n      <td>...</td>\n      <td>...</td>\n      <td>...</td>\n      <td>...</td>\n      <td>...</td>\n    </tr>\n    <tr>\n      <th>344917</th>\n      <td>2020-01-12</td>\n      <td>אשקלון</td>\n      <td>קלמנטינות )ד(</td>\n      <td>2280.0</td>\n      <td>קלמנטינות</td>\n      <td>מחוז הדרום</td>\n    </tr>\n    <tr>\n      <th>344919</th>\n      <td>2020-01-12</td>\n      <td>קיבוץ יזרעאל</td>\n      <td>לפת )ד(</td>\n      <td>1230.0</td>\n      <td>לפת</td>\n      <td>מחוז הצפון</td>\n    </tr>\n    <tr>\n      <th>344920</th>\n      <td>2020-01-12</td>\n      <td>קיבוץ יזרעאל</td>\n      <td>סלק )ד(</td>\n      <td>3420.0</td>\n      <td>סלק</td>\n      <td>מחוז הצפון</td>\n    </tr>\n    <tr>\n      <th>344921</th>\n      <td>2020-01-12</td>\n      <td>קיבוץ יזרעאל</td>\n      <td>צנון )ד(</td>\n      <td>7200.0</td>\n      <td>צנון</td>\n      <td>מחוז הצפון</td>\n    </tr>\n    <tr>\n      <th>344940</th>\n      <td>2020-01-12</td>\n      <td>חיבת ציון</td>\n      <td>קלמנטינות )ד(</td>\n      <td>1600.0</td>\n      <td>קלמנטינות</td>\n      <td>מחוז המרכז</td>\n    </tr>\n  </tbody>\n</table>\n<p>43582 rows × 6 columns</p>\n</div>"
     },
     "execution_count": 10,
     "metadata": {},
     "output_type": "execute_result"
    }
   ],
   "source": [
    "df"
   ],
   "metadata": {
    "collapsed": false,
    "pycharm": {
     "name": "#%%\n"
    }
   }
  },
  {
   "cell_type": "code",
   "execution_count": 11,
   "outputs": [
    {
     "data": {
      "text/plain": "          date    location      food  quantity(kg) very_simple_food  \\\n12  2010-01-05      ערוגות  אשכוליות        4800.0         אשכוליות   \n13  2010-01-06        ינון    חצילים        6600.0           חצילים   \n24  2010-01-07      ערוגות    כרובית        3500.0            other   \n25  2010-01-10  שדה עוזיהו    חצילים        6300.0           חצילים   \n\n      district  \n12  מחוז הדרום  \n13  מחוז הדרום  \n24  מחוז הדרום  \n25  מחוז הדרום  ",
      "text/html": "<div>\n<style scoped>\n    .dataframe tbody tr th:only-of-type {\n        vertical-align: middle;\n    }\n\n    .dataframe tbody tr th {\n        vertical-align: top;\n    }\n\n    .dataframe thead th {\n        text-align: right;\n    }\n</style>\n<table border=\"1\" class=\"dataframe\">\n  <thead>\n    <tr style=\"text-align: right;\">\n      <th></th>\n      <th>date</th>\n      <th>location</th>\n      <th>food</th>\n      <th>quantity(kg)</th>\n      <th>very_simple_food</th>\n      <th>district</th>\n    </tr>\n  </thead>\n  <tbody>\n    <tr>\n      <th>12</th>\n      <td>2010-01-05</td>\n      <td>ערוגות</td>\n      <td>אשכוליות</td>\n      <td>4800.0</td>\n      <td>אשכוליות</td>\n      <td>מחוז הדרום</td>\n    </tr>\n    <tr>\n      <th>13</th>\n      <td>2010-01-06</td>\n      <td>ינון</td>\n      <td>חצילים</td>\n      <td>6600.0</td>\n      <td>חצילים</td>\n      <td>מחוז הדרום</td>\n    </tr>\n    <tr>\n      <th>24</th>\n      <td>2010-01-07</td>\n      <td>ערוגות</td>\n      <td>כרובית</td>\n      <td>3500.0</td>\n      <td>other</td>\n      <td>מחוז הדרום</td>\n    </tr>\n    <tr>\n      <th>25</th>\n      <td>2010-01-10</td>\n      <td>שדה עוזיהו</td>\n      <td>חצילים</td>\n      <td>6300.0</td>\n      <td>חצילים</td>\n      <td>מחוז הדרום</td>\n    </tr>\n  </tbody>\n</table>\n</div>"
     },
     "execution_count": 11,
     "metadata": {},
     "output_type": "execute_result"
    }
   ],
   "source": [
    "df[(df[\"district\"] == \"מחוז הדרום\") &\n",
    "    (df[\"date\"] <= \"2010-01-10\")]"
   ],
   "metadata": {
    "collapsed": false,
    "pycharm": {
     "name": "#%%\n"
    }
   }
  },
  {
   "cell_type": "code",
   "execution_count": 12,
   "outputs": [
    {
     "name": "stderr",
     "output_type": "stream",
     "text": [
      "/tmp/ipykernel_11273/1188387215.py:1: SettingWithCopyWarning: \n",
      "A value is trying to be set on a copy of a slice from a DataFrame.\n",
      "Try using .loc[row_indexer,col_indexer] = value instead\n",
      "\n",
      "See the caveats in the documentation: https://pandas.pydata.org/pandas-docs/stable/user_guide/indexing.html#returning-a-view-versus-a-copy\n",
      "  df[\"date_ts\"] = df[[\"date\"]].apply(lambda x: dt.strptime(x[0], \"%Y-%m-%d\").timestamp(), axis=1).astype(int)\n"
     ]
    }
   ],
   "source": [
    "df[\"date_ts\"] = df[[\"date\"]].apply(lambda x: dt.strptime(x[0], \"%Y-%m-%d\").timestamp(), axis=1).astype(int)"
   ],
   "metadata": {
    "collapsed": false,
    "pycharm": {
     "name": "#%%\n"
    }
   }
  },
  {
   "cell_type": "code",
   "execution_count": 17,
   "outputs": [
    {
     "data": {
      "text/plain": "              date          location           food  quantity(kg)  \\\n1       2010-01-03        קיבוץ יפעת        ברוקולי        5000.0   \n2       2010-01-03       קיבוץ הזורע       אשכוליות        1200.0   \n3       2010-01-03  קיבוץ קבוצת שילר      קלמנטינות        4300.0   \n4       2010-01-04             צופית      פלפל חריף         800.0   \n5       2010-01-04         מעלה גמלא         פומלית        7000.0   \n...            ...               ...            ...           ...   \n344917  2020-01-12            אשקלון  קלמנטינות )ד(        2280.0   \n344919  2020-01-12      קיבוץ יזרעאל        לפת )ד(        1230.0   \n344920  2020-01-12      קיבוץ יזרעאל        סלק )ד(        3420.0   \n344921  2020-01-12      קיבוץ יזרעאל       צנון )ד(        7200.0   \n344940  2020-01-12         חיבת ציון  קלמנטינות )ד(        1600.0   \n\n       very_simple_food    district     date_ts  \n1                 other       other  1262469600  \n2              אשכוליות  מחוז הצפון  1262469600  \n3             קלמנטינות       other  1262469600  \n4                 other  מחוז המרכז  1262556000  \n5                פומלית  מחוז הצפון  1262556000  \n...                 ...         ...         ...  \n344917        קלמנטינות  מחוז הדרום  1578780000  \n344919              לפת  מחוז הצפון  1578780000  \n344920              סלק  מחוז הצפון  1578780000  \n344921             צנון  מחוז הצפון  1578780000  \n344940        קלמנטינות  מחוז המרכז  1578780000  \n\n[43582 rows x 7 columns]",
      "text/html": "<div>\n<style scoped>\n    .dataframe tbody tr th:only-of-type {\n        vertical-align: middle;\n    }\n\n    .dataframe tbody tr th {\n        vertical-align: top;\n    }\n\n    .dataframe thead th {\n        text-align: right;\n    }\n</style>\n<table border=\"1\" class=\"dataframe\">\n  <thead>\n    <tr style=\"text-align: right;\">\n      <th></th>\n      <th>date</th>\n      <th>location</th>\n      <th>food</th>\n      <th>quantity(kg)</th>\n      <th>very_simple_food</th>\n      <th>district</th>\n      <th>date_ts</th>\n    </tr>\n  </thead>\n  <tbody>\n    <tr>\n      <th>1</th>\n      <td>2010-01-03</td>\n      <td>קיבוץ יפעת</td>\n      <td>ברוקולי</td>\n      <td>5000.0</td>\n      <td>other</td>\n      <td>other</td>\n      <td>1262469600</td>\n    </tr>\n    <tr>\n      <th>2</th>\n      <td>2010-01-03</td>\n      <td>קיבוץ הזורע</td>\n      <td>אשכוליות</td>\n      <td>1200.0</td>\n      <td>אשכוליות</td>\n      <td>מחוז הצפון</td>\n      <td>1262469600</td>\n    </tr>\n    <tr>\n      <th>3</th>\n      <td>2010-01-03</td>\n      <td>קיבוץ קבוצת שילר</td>\n      <td>קלמנטינות</td>\n      <td>4300.0</td>\n      <td>קלמנטינות</td>\n      <td>other</td>\n      <td>1262469600</td>\n    </tr>\n    <tr>\n      <th>4</th>\n      <td>2010-01-04</td>\n      <td>צופית</td>\n      <td>פלפל חריף</td>\n      <td>800.0</td>\n      <td>other</td>\n      <td>מחוז המרכז</td>\n      <td>1262556000</td>\n    </tr>\n    <tr>\n      <th>5</th>\n      <td>2010-01-04</td>\n      <td>מעלה גמלא</td>\n      <td>פומלית</td>\n      <td>7000.0</td>\n      <td>פומלית</td>\n      <td>מחוז הצפון</td>\n      <td>1262556000</td>\n    </tr>\n    <tr>\n      <th>...</th>\n      <td>...</td>\n      <td>...</td>\n      <td>...</td>\n      <td>...</td>\n      <td>...</td>\n      <td>...</td>\n      <td>...</td>\n    </tr>\n    <tr>\n      <th>344917</th>\n      <td>2020-01-12</td>\n      <td>אשקלון</td>\n      <td>קלמנטינות )ד(</td>\n      <td>2280.0</td>\n      <td>קלמנטינות</td>\n      <td>מחוז הדרום</td>\n      <td>1578780000</td>\n    </tr>\n    <tr>\n      <th>344919</th>\n      <td>2020-01-12</td>\n      <td>קיבוץ יזרעאל</td>\n      <td>לפת )ד(</td>\n      <td>1230.0</td>\n      <td>לפת</td>\n      <td>מחוז הצפון</td>\n      <td>1578780000</td>\n    </tr>\n    <tr>\n      <th>344920</th>\n      <td>2020-01-12</td>\n      <td>קיבוץ יזרעאל</td>\n      <td>סלק )ד(</td>\n      <td>3420.0</td>\n      <td>סלק</td>\n      <td>מחוז הצפון</td>\n      <td>1578780000</td>\n    </tr>\n    <tr>\n      <th>344921</th>\n      <td>2020-01-12</td>\n      <td>קיבוץ יזרעאל</td>\n      <td>צנון )ד(</td>\n      <td>7200.0</td>\n      <td>צנון</td>\n      <td>מחוז הצפון</td>\n      <td>1578780000</td>\n    </tr>\n    <tr>\n      <th>344940</th>\n      <td>2020-01-12</td>\n      <td>חיבת ציון</td>\n      <td>קלמנטינות )ד(</td>\n      <td>1600.0</td>\n      <td>קלמנטינות</td>\n      <td>מחוז המרכז</td>\n      <td>1578780000</td>\n    </tr>\n  </tbody>\n</table>\n<p>43582 rows × 7 columns</p>\n</div>"
     },
     "execution_count": 17,
     "metadata": {},
     "output_type": "execute_result"
    }
   ],
   "source": [
    "df"
   ],
   "metadata": {
    "collapsed": false,
    "pycharm": {
     "name": "#%%\n"
    }
   }
  },
  {
   "cell_type": "code",
   "execution_count": 13,
   "outputs": [
    {
     "data": {
      "text/plain": "DecisionTreeRegressor(random_state=0)",
      "text/html": "<style>#sk-container-id-1 {color: black;background-color: white;}#sk-container-id-1 pre{padding: 0;}#sk-container-id-1 div.sk-toggleable {background-color: white;}#sk-container-id-1 label.sk-toggleable__label {cursor: pointer;display: block;width: 100%;margin-bottom: 0;padding: 0.3em;box-sizing: border-box;text-align: center;}#sk-container-id-1 label.sk-toggleable__label-arrow:before {content: \"▸\";float: left;margin-right: 0.25em;color: #696969;}#sk-container-id-1 label.sk-toggleable__label-arrow:hover:before {color: black;}#sk-container-id-1 div.sk-estimator:hover label.sk-toggleable__label-arrow:before {color: black;}#sk-container-id-1 div.sk-toggleable__content {max-height: 0;max-width: 0;overflow: hidden;text-align: left;background-color: #f0f8ff;}#sk-container-id-1 div.sk-toggleable__content pre {margin: 0.2em;color: black;border-radius: 0.25em;background-color: #f0f8ff;}#sk-container-id-1 input.sk-toggleable__control:checked~div.sk-toggleable__content {max-height: 200px;max-width: 100%;overflow: auto;}#sk-container-id-1 input.sk-toggleable__control:checked~label.sk-toggleable__label-arrow:before {content: \"▾\";}#sk-container-id-1 div.sk-estimator input.sk-toggleable__control:checked~label.sk-toggleable__label {background-color: #d4ebff;}#sk-container-id-1 div.sk-label input.sk-toggleable__control:checked~label.sk-toggleable__label {background-color: #d4ebff;}#sk-container-id-1 input.sk-hidden--visually {border: 0;clip: rect(1px 1px 1px 1px);clip: rect(1px, 1px, 1px, 1px);height: 1px;margin: -1px;overflow: hidden;padding: 0;position: absolute;width: 1px;}#sk-container-id-1 div.sk-estimator {font-family: monospace;background-color: #f0f8ff;border: 1px dotted black;border-radius: 0.25em;box-sizing: border-box;margin-bottom: 0.5em;}#sk-container-id-1 div.sk-estimator:hover {background-color: #d4ebff;}#sk-container-id-1 div.sk-parallel-item::after {content: \"\";width: 100%;border-bottom: 1px solid gray;flex-grow: 1;}#sk-container-id-1 div.sk-label:hover label.sk-toggleable__label {background-color: #d4ebff;}#sk-container-id-1 div.sk-serial::before {content: \"\";position: absolute;border-left: 1px solid gray;box-sizing: border-box;top: 0;bottom: 0;left: 50%;z-index: 0;}#sk-container-id-1 div.sk-serial {display: flex;flex-direction: column;align-items: center;background-color: white;padding-right: 0.2em;padding-left: 0.2em;position: relative;}#sk-container-id-1 div.sk-item {position: relative;z-index: 1;}#sk-container-id-1 div.sk-parallel {display: flex;align-items: stretch;justify-content: center;background-color: white;position: relative;}#sk-container-id-1 div.sk-item::before, #sk-container-id-1 div.sk-parallel-item::before {content: \"\";position: absolute;border-left: 1px solid gray;box-sizing: border-box;top: 0;bottom: 0;left: 50%;z-index: -1;}#sk-container-id-1 div.sk-parallel-item {display: flex;flex-direction: column;z-index: 1;position: relative;background-color: white;}#sk-container-id-1 div.sk-parallel-item:first-child::after {align-self: flex-end;width: 50%;}#sk-container-id-1 div.sk-parallel-item:last-child::after {align-self: flex-start;width: 50%;}#sk-container-id-1 div.sk-parallel-item:only-child::after {width: 0;}#sk-container-id-1 div.sk-dashed-wrapped {border: 1px dashed gray;margin: 0 0.4em 0.5em 0.4em;box-sizing: border-box;padding-bottom: 0.4em;background-color: white;}#sk-container-id-1 div.sk-label label {font-family: monospace;font-weight: bold;display: inline-block;line-height: 1.2em;}#sk-container-id-1 div.sk-label-container {text-align: center;}#sk-container-id-1 div.sk-container {/* jupyter's `normalize.less` sets `[hidden] { display: none; }` but bootstrap.min.css set `[hidden] { display: none !important; }` so we also need the `!important` here to be able to override the default hidden behavior on the sphinx rendered scikit-learn.org. See: https://github.com/scikit-learn/scikit-learn/issues/21755 */display: inline-block !important;position: relative;}#sk-container-id-1 div.sk-text-repr-fallback {display: none;}</style><div id=\"sk-container-id-1\" class=\"sk-top-container\"><div class=\"sk-text-repr-fallback\"><pre>DecisionTreeRegressor(random_state=0)</pre><b>In a Jupyter environment, please rerun this cell to show the HTML representation or trust the notebook. <br />On GitHub, the HTML representation is unable to render, please try loading this page with nbviewer.org.</b></div><div class=\"sk-container\" hidden><div class=\"sk-item\"><div class=\"sk-estimator sk-toggleable\"><input class=\"sk-toggleable__control sk-hidden--visually\" id=\"sk-estimator-id-1\" type=\"checkbox\" checked><label for=\"sk-estimator-id-1\" class=\"sk-toggleable__label sk-toggleable__label-arrow\">DecisionTreeRegressor</label><div class=\"sk-toggleable__content\"><pre>DecisionTreeRegressor(random_state=0)</pre></div></div></div></div></div>"
     },
     "execution_count": 13,
     "metadata": {},
     "output_type": "execute_result"
    }
   ],
   "source": [
    "\n",
    "X = pd.concat([df[[\"date_ts\"]], pd.get_dummies(df[[\"location\"]]), pd.get_dummies(df[[\"food\"]])], axis=1).to_numpy()\n",
    "Y = df[\"quantity(kg)\"].to_numpy()\n",
    "\n",
    "\n",
    "model = dtr(random_state=0)\n",
    "\n",
    "model.fit(X, Y)"
   ],
   "metadata": {
    "collapsed": false,
    "pycharm": {
     "name": "#%%\n"
    }
   }
  },
  {
   "cell_type": "code",
   "execution_count": 14,
   "outputs": [
    {
     "data": {
      "text/plain": "957.3962459708139"
     },
     "execution_count": 14,
     "metadata": {},
     "output_type": "execute_result"
    }
   ],
   "source": [
    "Y_pred = model.predict(X)\n",
    "mean_squared_error(Y, Y_pred, squared=False)"
   ],
   "metadata": {
    "collapsed": false,
    "pycharm": {
     "name": "#%%\n"
    }
   }
  },
  {
   "cell_type": "code",
   "execution_count": 31,
   "outputs": [
    {
     "data": {
      "text/plain": "DecisionTreeRegressor(random_state=0)",
      "text/html": "<style>#sk-container-id-3 {color: black;background-color: white;}#sk-container-id-3 pre{padding: 0;}#sk-container-id-3 div.sk-toggleable {background-color: white;}#sk-container-id-3 label.sk-toggleable__label {cursor: pointer;display: block;width: 100%;margin-bottom: 0;padding: 0.3em;box-sizing: border-box;text-align: center;}#sk-container-id-3 label.sk-toggleable__label-arrow:before {content: \"▸\";float: left;margin-right: 0.25em;color: #696969;}#sk-container-id-3 label.sk-toggleable__label-arrow:hover:before {color: black;}#sk-container-id-3 div.sk-estimator:hover label.sk-toggleable__label-arrow:before {color: black;}#sk-container-id-3 div.sk-toggleable__content {max-height: 0;max-width: 0;overflow: hidden;text-align: left;background-color: #f0f8ff;}#sk-container-id-3 div.sk-toggleable__content pre {margin: 0.2em;color: black;border-radius: 0.25em;background-color: #f0f8ff;}#sk-container-id-3 input.sk-toggleable__control:checked~div.sk-toggleable__content {max-height: 200px;max-width: 100%;overflow: auto;}#sk-container-id-3 input.sk-toggleable__control:checked~label.sk-toggleable__label-arrow:before {content: \"▾\";}#sk-container-id-3 div.sk-estimator input.sk-toggleable__control:checked~label.sk-toggleable__label {background-color: #d4ebff;}#sk-container-id-3 div.sk-label input.sk-toggleable__control:checked~label.sk-toggleable__label {background-color: #d4ebff;}#sk-container-id-3 input.sk-hidden--visually {border: 0;clip: rect(1px 1px 1px 1px);clip: rect(1px, 1px, 1px, 1px);height: 1px;margin: -1px;overflow: hidden;padding: 0;position: absolute;width: 1px;}#sk-container-id-3 div.sk-estimator {font-family: monospace;background-color: #f0f8ff;border: 1px dotted black;border-radius: 0.25em;box-sizing: border-box;margin-bottom: 0.5em;}#sk-container-id-3 div.sk-estimator:hover {background-color: #d4ebff;}#sk-container-id-3 div.sk-parallel-item::after {content: \"\";width: 100%;border-bottom: 1px solid gray;flex-grow: 1;}#sk-container-id-3 div.sk-label:hover label.sk-toggleable__label {background-color: #d4ebff;}#sk-container-id-3 div.sk-serial::before {content: \"\";position: absolute;border-left: 1px solid gray;box-sizing: border-box;top: 0;bottom: 0;left: 50%;z-index: 0;}#sk-container-id-3 div.sk-serial {display: flex;flex-direction: column;align-items: center;background-color: white;padding-right: 0.2em;padding-left: 0.2em;position: relative;}#sk-container-id-3 div.sk-item {position: relative;z-index: 1;}#sk-container-id-3 div.sk-parallel {display: flex;align-items: stretch;justify-content: center;background-color: white;position: relative;}#sk-container-id-3 div.sk-item::before, #sk-container-id-3 div.sk-parallel-item::before {content: \"\";position: absolute;border-left: 1px solid gray;box-sizing: border-box;top: 0;bottom: 0;left: 50%;z-index: -1;}#sk-container-id-3 div.sk-parallel-item {display: flex;flex-direction: column;z-index: 1;position: relative;background-color: white;}#sk-container-id-3 div.sk-parallel-item:first-child::after {align-self: flex-end;width: 50%;}#sk-container-id-3 div.sk-parallel-item:last-child::after {align-self: flex-start;width: 50%;}#sk-container-id-3 div.sk-parallel-item:only-child::after {width: 0;}#sk-container-id-3 div.sk-dashed-wrapped {border: 1px dashed gray;margin: 0 0.4em 0.5em 0.4em;box-sizing: border-box;padding-bottom: 0.4em;background-color: white;}#sk-container-id-3 div.sk-label label {font-family: monospace;font-weight: bold;display: inline-block;line-height: 1.2em;}#sk-container-id-3 div.sk-label-container {text-align: center;}#sk-container-id-3 div.sk-container {/* jupyter's `normalize.less` sets `[hidden] { display: none; }` but bootstrap.min.css set `[hidden] { display: none !important; }` so we also need the `!important` here to be able to override the default hidden behavior on the sphinx rendered scikit-learn.org. See: https://github.com/scikit-learn/scikit-learn/issues/21755 */display: inline-block !important;position: relative;}#sk-container-id-3 div.sk-text-repr-fallback {display: none;}</style><div id=\"sk-container-id-3\" class=\"sk-top-container\"><div class=\"sk-text-repr-fallback\"><pre>DecisionTreeRegressor(random_state=0)</pre><b>In a Jupyter environment, please rerun this cell to show the HTML representation or trust the notebook. <br />On GitHub, the HTML representation is unable to render, please try loading this page with nbviewer.org.</b></div><div class=\"sk-container\" hidden><div class=\"sk-item\"><div class=\"sk-estimator sk-toggleable\"><input class=\"sk-toggleable__control sk-hidden--visually\" id=\"sk-estimator-id-3\" type=\"checkbox\" checked><label for=\"sk-estimator-id-3\" class=\"sk-toggleable__label sk-toggleable__label-arrow\">DecisionTreeRegressor</label><div class=\"sk-toggleable__content\"><pre>DecisionTreeRegressor(random_state=0)</pre></div></div></div></div></div>"
     },
     "execution_count": 31,
     "metadata": {},
     "output_type": "execute_result"
    }
   ],
   "source": [
    "train = y_train.reset_index()\n",
    "melted_train = pd.melt(train, id_vars=[\"year_weeks\"], var_name=\"City\", value_name=\"Weight\")\n",
    "melted_train[\"temp\"] = melted_train[[\"City\"]].apply(lambda x: x[0].split(\"_\"), axis=1)\n",
    "melted_train[[\"food\", \"district\"]] = pd.DataFrame(melted_train[\"temp\"].tolist())\n",
    "melted_train[\"date_ts\"] = list(map(lambda x: dt.strptime(x.split(\"/\")[0], \"%Y-%m-%d\").timestamp(), melted_train.year_weeks))\n",
    "melted_train = melted_train[[\"year_weeks\", \"date_ts\", \"food\", \"district\", \"Weight\"]]\n",
    "\n",
    "X = pd.concat([melted_train[[\"date_ts\"]], pd.get_dummies(melted_train[[\"district\"]]), pd.get_dummies(melted_train[[\"food\"]])], axis=1).to_numpy()\n",
    "Y = melted_train[\"Weight\"].to_numpy()\n",
    "\n",
    "model = dtr(random_state=0)\n",
    "\n",
    "from sklearn.model_selection import train_test_split\n",
    "X_train, X_test, Y_train, Y_test = train_test_split(X, Y, test_size=0.2, random_state=0)\n",
    "\n",
    "model.fit(X_train, Y_train)"
   ],
   "metadata": {
    "collapsed": false,
    "pycharm": {
     "name": "#%%\n"
    }
   }
  },
  {
   "cell_type": "code",
   "execution_count": 32,
   "outputs": [
    {
     "data": {
      "text/plain": "7950.209294439539"
     },
     "execution_count": 32,
     "metadata": {},
     "output_type": "execute_result"
    }
   ],
   "source": [
    "Y_pred = model.predict(X_test)\n",
    "mean_squared_error(Y_test, Y_pred, squared=False)"
   ],
   "metadata": {
    "collapsed": false,
    "pycharm": {
     "name": "#%%\n"
    }
   }
  },
  {
   "cell_type": "code",
   "execution_count": null,
   "outputs": [],
   "source": [],
   "metadata": {
    "collapsed": false,
    "pycharm": {
     "name": "#%%\n"
    }
   }
  },
  {
   "cell_type": "code",
   "execution_count": 20,
   "outputs": [],
   "source": [
    "test_indices.reset_index(inplace=True)\n",
    "if \"index\" in test_indices.columns:\n",
    "    test_indices.drop(columns=[\"index\"], inplace=True)\n",
    "test_indices[\"date_ts\"] = list(map(lambda x: dt.strptime(x.split(\"/\")[0], \"%Y-%m-%d\").timestamp(), test_indices.year_weeks))\n"
   ],
   "metadata": {
    "collapsed": false,
    "pycharm": {
     "name": "#%%\n"
    }
   }
  },
  {
   "cell_type": "code",
   "execution_count": 22,
   "outputs": [],
   "source": [
    "foodDistrict = melted_train[[\"food\", \"district\"]].drop_duplicates()\n",
    "foodDistrict.reset_index(inplace=True)\n",
    "foodDistrict.drop(columns=\"index\", inplace=True)"
   ],
   "metadata": {
    "collapsed": false,
    "pycharm": {
     "name": "#%%\n"
    }
   }
  },
  {
   "cell_type": "code",
   "execution_count": 27,
   "outputs": [
    {
     "name": "stdout",
     "output_type": "stream",
     "text": [
      "[[1.5788664e+09 1.0000000e+00 0.0000000e+00 ... 0.0000000e+00\n",
      "  0.0000000e+00 0.0000000e+00]\n",
      " [1.5788664e+09 1.0000000e+00 0.0000000e+00 ... 0.0000000e+00\n",
      "  0.0000000e+00 0.0000000e+00]\n",
      " [1.5788664e+09 1.0000000e+00 0.0000000e+00 ... 0.0000000e+00\n",
      "  0.0000000e+00 0.0000000e+00]\n",
      " ...\n",
      " [1.6574868e+09 0.0000000e+00 0.0000000e+00 ... 0.0000000e+00\n",
      "  0.0000000e+00 0.0000000e+00]\n",
      " [1.6574868e+09 0.0000000e+00 0.0000000e+00 ... 1.0000000e+00\n",
      "  0.0000000e+00 0.0000000e+00]\n",
      " [1.6574868e+09 0.0000000e+00 0.0000000e+00 ... 0.0000000e+00\n",
      "  0.0000000e+00 1.0000000e+00]]\n"
     ]
    }
   ],
   "source": [
    "X_cross = test_indices.merge(foodDistrict, how=\"cross\")\n",
    "X_test_df = pd.concat([X_cross[\"date_ts\"],\n",
    "                       pd.get_dummies(X_cross[\"food\"]),\n",
    "                       pd.get_dummies(X_cross[\"district\"])], axis=1)\n",
    "X_test = X_test_df.to_numpy()\n",
    "print(X_test)"
   ],
   "metadata": {
    "collapsed": false,
    "pycharm": {
     "name": "#%%\n"
    }
   }
  },
  {
   "cell_type": "code",
   "execution_count": 28,
   "outputs": [],
   "source": [
    "Y_pred = model.predict(X_test)\n",
    "X_cross[\"Weight\"] = Y_pred\n"
   ],
   "metadata": {
    "collapsed": false,
    "pycharm": {
     "name": "#%%\n"
    }
   }
  },
  {
   "cell_type": "code",
   "execution_count": 29,
   "outputs": [
    {
     "name": "stdout",
     "output_type": "stream",
     "text": [
      "concat\n",
      "stacked\n"
     ]
    }
   ],
   "source": [
    "def revert(df):\n",
    "    df = pd.concat([df[\"year_weeks\"], df[[\"food\", \"district\"]].apply(lambda x: f\"{x[0]}_{x[1]}\", axis=1).rename(\"placeXfood\"), df[\"Weight\"]], axis=1)\n",
    "    print(\"concat\")\n",
    "    df = df.set_index([\"year_weeks\", \"placeXfood\"])[\"Weight\"].unstack()\n",
    "    print(\"stacked\")\n",
    "    df.columns.name = None\n",
    "    return df\n",
    "finaldf = revert(X_cross[[\"year_weeks\", \"food\", \"district\", \"Weight\"]])"
   ],
   "metadata": {
    "collapsed": false,
    "pycharm": {
     "name": "#%%\n"
    }
   }
  },
  {
   "cell_type": "code",
   "execution_count": 30,
   "outputs": [],
   "source": [
    "finaldf.to_csv(\"AnswersFromMain.csv\")\n"
   ],
   "metadata": {
    "collapsed": false,
    "pycharm": {
     "name": "#%%\n"
    }
   }
  },
  {
   "cell_type": "code",
   "execution_count": null,
   "outputs": [],
   "source": [],
   "metadata": {
    "collapsed": false,
    "pycharm": {
     "name": "#%%\n"
    }
   }
  },
  {
   "cell_type": "code",
   "execution_count": null,
   "outputs": [],
   "source": [],
   "metadata": {
    "collapsed": false,
    "pycharm": {
     "name": "#%%\n"
    }
   }
  },
  {
   "cell_type": "code",
   "execution_count": null,
   "outputs": [],
   "source": [],
   "metadata": {
    "collapsed": false,
    "pycharm": {
     "name": "#%%\n"
    }
   }
  },
  {
   "cell_type": "code",
   "execution_count": null,
   "outputs": [],
   "source": [],
   "metadata": {
    "collapsed": false,
    "pycharm": {
     "name": "#%%\n"
    }
   }
  },
  {
   "cell_type": "code",
   "execution_count": 210,
   "outputs": [],
   "source": [
    "train = y_train.reset_index()\n",
    "melted_train = pd.melt(train, id_vars=[\"year_weeks\"], var_name=\"City\", value_name=\"Weight\")\n",
    "melted_train[\"temp\"] = melted_train[[\"City\"]].apply(lambda x: x[0].split(\"_\"), axis=1)\n",
    "melted_train[[\"food\", \"district\"]] = pd.DataFrame(melted_train[\"temp\"].tolist())\n",
    "melted_train[\"month\"] = list(map(lambda x: int(x.split(\"/\")[1].split(\"-\")[1]), melted_train.year_weeks))\n",
    "melted_train = melted_train[[\"year_weeks\", \"month\", \"food\", \"district\", \"Weight\"]]\n",
    "\n",
    "X_train_df = pd.concat([pd.get_dummies(melted_train[\"month\"]),\n",
    "                     pd.get_dummies(melted_train[\"food\"]),\n",
    "                     pd.get_dummies(melted_train[\"district\"])], axis=1)\n",
    "\n",
    "X_train = X_train_df.to_numpy()\n",
    "Y_train = melted_train[\"Weight\"].to_numpy()\n",
    "# print(X_train.to_numpy())\n",
    "# pd.get_dummies(melted_train[[\"month\", \"food\"]])\n"
   ],
   "metadata": {
    "collapsed": false,
    "pycharm": {
     "name": "#%%\n"
    }
   }
  },
  {
   "cell_type": "code",
   "execution_count": 212,
   "outputs": [
    {
     "data": {
      "text/plain": "DecisionTreeRegressor(random_state=0)",
      "text/html": "<style>#sk-container-id-4 {color: black;background-color: white;}#sk-container-id-4 pre{padding: 0;}#sk-container-id-4 div.sk-toggleable {background-color: white;}#sk-container-id-4 label.sk-toggleable__label {cursor: pointer;display: block;width: 100%;margin-bottom: 0;padding: 0.3em;box-sizing: border-box;text-align: center;}#sk-container-id-4 label.sk-toggleable__label-arrow:before {content: \"▸\";float: left;margin-right: 0.25em;color: #696969;}#sk-container-id-4 label.sk-toggleable__label-arrow:hover:before {color: black;}#sk-container-id-4 div.sk-estimator:hover label.sk-toggleable__label-arrow:before {color: black;}#sk-container-id-4 div.sk-toggleable__content {max-height: 0;max-width: 0;overflow: hidden;text-align: left;background-color: #f0f8ff;}#sk-container-id-4 div.sk-toggleable__content pre {margin: 0.2em;color: black;border-radius: 0.25em;background-color: #f0f8ff;}#sk-container-id-4 input.sk-toggleable__control:checked~div.sk-toggleable__content {max-height: 200px;max-width: 100%;overflow: auto;}#sk-container-id-4 input.sk-toggleable__control:checked~label.sk-toggleable__label-arrow:before {content: \"▾\";}#sk-container-id-4 div.sk-estimator input.sk-toggleable__control:checked~label.sk-toggleable__label {background-color: #d4ebff;}#sk-container-id-4 div.sk-label input.sk-toggleable__control:checked~label.sk-toggleable__label {background-color: #d4ebff;}#sk-container-id-4 input.sk-hidden--visually {border: 0;clip: rect(1px 1px 1px 1px);clip: rect(1px, 1px, 1px, 1px);height: 1px;margin: -1px;overflow: hidden;padding: 0;position: absolute;width: 1px;}#sk-container-id-4 div.sk-estimator {font-family: monospace;background-color: #f0f8ff;border: 1px dotted black;border-radius: 0.25em;box-sizing: border-box;margin-bottom: 0.5em;}#sk-container-id-4 div.sk-estimator:hover {background-color: #d4ebff;}#sk-container-id-4 div.sk-parallel-item::after {content: \"\";width: 100%;border-bottom: 1px solid gray;flex-grow: 1;}#sk-container-id-4 div.sk-label:hover label.sk-toggleable__label {background-color: #d4ebff;}#sk-container-id-4 div.sk-serial::before {content: \"\";position: absolute;border-left: 1px solid gray;box-sizing: border-box;top: 0;bottom: 0;left: 50%;z-index: 0;}#sk-container-id-4 div.sk-serial {display: flex;flex-direction: column;align-items: center;background-color: white;padding-right: 0.2em;padding-left: 0.2em;position: relative;}#sk-container-id-4 div.sk-item {position: relative;z-index: 1;}#sk-container-id-4 div.sk-parallel {display: flex;align-items: stretch;justify-content: center;background-color: white;position: relative;}#sk-container-id-4 div.sk-item::before, #sk-container-id-4 div.sk-parallel-item::before {content: \"\";position: absolute;border-left: 1px solid gray;box-sizing: border-box;top: 0;bottom: 0;left: 50%;z-index: -1;}#sk-container-id-4 div.sk-parallel-item {display: flex;flex-direction: column;z-index: 1;position: relative;background-color: white;}#sk-container-id-4 div.sk-parallel-item:first-child::after {align-self: flex-end;width: 50%;}#sk-container-id-4 div.sk-parallel-item:last-child::after {align-self: flex-start;width: 50%;}#sk-container-id-4 div.sk-parallel-item:only-child::after {width: 0;}#sk-container-id-4 div.sk-dashed-wrapped {border: 1px dashed gray;margin: 0 0.4em 0.5em 0.4em;box-sizing: border-box;padding-bottom: 0.4em;background-color: white;}#sk-container-id-4 div.sk-label label {font-family: monospace;font-weight: bold;display: inline-block;line-height: 1.2em;}#sk-container-id-4 div.sk-label-container {text-align: center;}#sk-container-id-4 div.sk-container {/* jupyter's `normalize.less` sets `[hidden] { display: none; }` but bootstrap.min.css set `[hidden] { display: none !important; }` so we also need the `!important` here to be able to override the default hidden behavior on the sphinx rendered scikit-learn.org. See: https://github.com/scikit-learn/scikit-learn/issues/21755 */display: inline-block !important;position: relative;}#sk-container-id-4 div.sk-text-repr-fallback {display: none;}</style><div id=\"sk-container-id-4\" class=\"sk-top-container\"><div class=\"sk-text-repr-fallback\"><pre>DecisionTreeRegressor(random_state=0)</pre><b>In a Jupyter environment, please rerun this cell to show the HTML representation or trust the notebook. <br />On GitHub, the HTML representation is unable to render, please try loading this page with nbviewer.org.</b></div><div class=\"sk-container\" hidden><div class=\"sk-item\"><div class=\"sk-estimator sk-toggleable\"><input class=\"sk-toggleable__control sk-hidden--visually\" id=\"sk-estimator-id-4\" type=\"checkbox\" checked><label for=\"sk-estimator-id-4\" class=\"sk-toggleable__label sk-toggleable__label-arrow\">DecisionTreeRegressor</label><div class=\"sk-toggleable__content\"><pre>DecisionTreeRegressor(random_state=0)</pre></div></div></div></div></div>"
     },
     "execution_count": 212,
     "metadata": {},
     "output_type": "execute_result"
    }
   ],
   "source": [
    "model = dtr(random_state=0)\n",
    "\n",
    "model.fit(X_train, Y_train)"
   ],
   "metadata": {
    "collapsed": false,
    "pycharm": {
     "name": "#%%\n"
    }
   }
  },
  {
   "cell_type": "code",
   "execution_count": 217,
   "outputs": [
    {
     "data": {
      "text/plain": "                  year_weeks  month   food       district  Weight\n0      2009-12-28/2010-01-03      1  other  יהודה ושומרון     0.0\n1      2010-01-04/2010-01-10      1  other  יהודה ושומרון     0.0\n2      2010-01-11/2010-01-17      1  other  יהודה ושומרון     0.0\n3      2010-01-18/2010-01-24      1  other  יהודה ושומרון     0.0\n4      2010-01-25/2010-01-31      1  other  יהודה ושומרון     0.0\n...                      ...    ...    ...            ...     ...\n99031  2019-12-09/2019-12-15     12  month           None    12.0\n99032  2019-12-16/2019-12-22     12  month           None    12.0\n99033  2019-12-23/2019-12-29     12  month           None    12.0\n99034  2019-12-30/2020-01-05      1  month           None     1.0\n99035  2020-01-06/2020-01-12      1  month           None     1.0\n\n[99036 rows x 5 columns]",
      "text/html": "<div>\n<style scoped>\n    .dataframe tbody tr th:only-of-type {\n        vertical-align: middle;\n    }\n\n    .dataframe tbody tr th {\n        vertical-align: top;\n    }\n\n    .dataframe thead th {\n        text-align: right;\n    }\n</style>\n<table border=\"1\" class=\"dataframe\">\n  <thead>\n    <tr style=\"text-align: right;\">\n      <th></th>\n      <th>year_weeks</th>\n      <th>month</th>\n      <th>food</th>\n      <th>district</th>\n      <th>Weight</th>\n    </tr>\n  </thead>\n  <tbody>\n    <tr>\n      <th>0</th>\n      <td>2009-12-28/2010-01-03</td>\n      <td>1</td>\n      <td>other</td>\n      <td>יהודה ושומרון</td>\n      <td>0.0</td>\n    </tr>\n    <tr>\n      <th>1</th>\n      <td>2010-01-04/2010-01-10</td>\n      <td>1</td>\n      <td>other</td>\n      <td>יהודה ושומרון</td>\n      <td>0.0</td>\n    </tr>\n    <tr>\n      <th>2</th>\n      <td>2010-01-11/2010-01-17</td>\n      <td>1</td>\n      <td>other</td>\n      <td>יהודה ושומרון</td>\n      <td>0.0</td>\n    </tr>\n    <tr>\n      <th>3</th>\n      <td>2010-01-18/2010-01-24</td>\n      <td>1</td>\n      <td>other</td>\n      <td>יהודה ושומרון</td>\n      <td>0.0</td>\n    </tr>\n    <tr>\n      <th>4</th>\n      <td>2010-01-25/2010-01-31</td>\n      <td>1</td>\n      <td>other</td>\n      <td>יהודה ושומרון</td>\n      <td>0.0</td>\n    </tr>\n    <tr>\n      <th>...</th>\n      <td>...</td>\n      <td>...</td>\n      <td>...</td>\n      <td>...</td>\n      <td>...</td>\n    </tr>\n    <tr>\n      <th>99031</th>\n      <td>2019-12-09/2019-12-15</td>\n      <td>12</td>\n      <td>month</td>\n      <td>None</td>\n      <td>12.0</td>\n    </tr>\n    <tr>\n      <th>99032</th>\n      <td>2019-12-16/2019-12-22</td>\n      <td>12</td>\n      <td>month</td>\n      <td>None</td>\n      <td>12.0</td>\n    </tr>\n    <tr>\n      <th>99033</th>\n      <td>2019-12-23/2019-12-29</td>\n      <td>12</td>\n      <td>month</td>\n      <td>None</td>\n      <td>12.0</td>\n    </tr>\n    <tr>\n      <th>99034</th>\n      <td>2019-12-30/2020-01-05</td>\n      <td>1</td>\n      <td>month</td>\n      <td>None</td>\n      <td>1.0</td>\n    </tr>\n    <tr>\n      <th>99035</th>\n      <td>2020-01-06/2020-01-12</td>\n      <td>1</td>\n      <td>month</td>\n      <td>None</td>\n      <td>1.0</td>\n    </tr>\n  </tbody>\n</table>\n<p>99036 rows × 5 columns</p>\n</div>"
     },
     "execution_count": 217,
     "metadata": {},
     "output_type": "execute_result"
    }
   ],
   "source": [
    "melted_train"
   ],
   "metadata": {
    "collapsed": false,
    "pycharm": {
     "name": "#%%\n"
    }
   }
  },
  {
   "cell_type": "code",
   "execution_count": 258,
   "outputs": [
    {
     "data": {
      "text/plain": "                       other_יהודה ושומרון  other_מחוז הדרום  \\\nyear_weeks                                                     \n2009-12-28/2010-01-03                  0.0               0.0   \n2010-01-04/2010-01-10                  0.0            3500.0   \n2010-01-11/2010-01-17                  0.0               0.0   \n2010-01-18/2010-01-24                  0.0               0.0   \n2010-01-25/2010-01-31                  0.0            1200.0   \n...                                    ...               ...   \n2019-12-09/2019-12-15                  0.0             502.0   \n2019-12-16/2019-12-22                  0.0            2315.0   \n2019-12-23/2019-12-29                  0.0           12885.0   \n2019-12-30/2020-01-05                  0.0            2770.0   \n2020-01-06/2020-01-12                  0.0               0.0   \n\n                       other_מחוז המרכז  other_מחוז הצפון  other_מחוז חיפה  \\\nyear_weeks                                                                   \n2009-12-28/2010-01-03               0.0               0.0              0.0   \n2010-01-04/2010-01-10             800.0               0.0              0.0   \n2010-01-11/2010-01-17             780.0            4700.0              0.0   \n2010-01-18/2010-01-24               0.0            2000.0              0.0   \n2010-01-25/2010-01-31               0.0               0.0              0.0   \n...                                 ...               ...              ...   \n2019-12-09/2019-12-15           19624.5               0.0            450.0   \n2019-12-16/2019-12-22           11764.0            2470.0              0.0   \n2019-12-23/2019-12-29            4830.5               0.0              0.0   \n2019-12-30/2020-01-05             277.4               0.0              0.0   \n2020-01-06/2020-01-12            3520.0            4410.0              0.0   \n\n                       other_מחוז ירושלים  other_מחוז תל אביב  אבטיחים_other  \\\nyear_weeks                                                                     \n2009-12-28/2010-01-03                 0.0                 0.0            0.0   \n2010-01-04/2010-01-10                 0.0                 0.0            0.0   \n2010-01-11/2010-01-17                 0.0                 0.0            0.0   \n2010-01-18/2010-01-24                 0.0                 0.0            0.0   \n2010-01-25/2010-01-31                 0.0                 0.0            0.0   \n...                                   ...                 ...            ...   \n2019-12-09/2019-12-15                 0.0                 0.0            0.0   \n2019-12-16/2019-12-22                 0.0               400.0            0.0   \n2019-12-23/2019-12-29                 0.0                 0.0            0.0   \n2019-12-30/2020-01-05                 0.0                 0.0            0.0   \n2020-01-06/2020-01-12                 0.0              1560.0            0.0   \n\n                       אבטיחים_יהודה ושומרון  אבטיחים_מחוז הדרום  ...  \\\nyear_weeks                                                        ...   \n2009-12-28/2010-01-03                    0.0                 0.0  ...   \n2010-01-04/2010-01-10                    0.0                 0.0  ...   \n2010-01-11/2010-01-17                    0.0                 0.0  ...   \n2010-01-18/2010-01-24                    0.0                 0.0  ...   \n2010-01-25/2010-01-31                    0.0                 0.0  ...   \n...                                      ...                 ...  ...   \n2019-12-09/2019-12-15                    0.0                 0.0  ...   \n2019-12-16/2019-12-22                    0.0                 0.0  ...   \n2019-12-23/2019-12-29                    0.0                 0.0  ...   \n2019-12-30/2020-01-05                    0.0                 0.0  ...   \n2020-01-06/2020-01-12                    0.0                 0.0  ...   \n\n                       תפוזים_מחוז המרכז  תפוזים_מחוז הצפון  תפוזים_מחוז חיפה  \\\nyear_weeks                                                                      \n2009-12-28/2010-01-03                0.0                0.0               0.0   \n2010-01-04/2010-01-10                0.0                0.0               0.0   \n2010-01-11/2010-01-17                0.0                0.0               0.0   \n2010-01-18/2010-01-24                0.0                0.0               0.0   \n2010-01-25/2010-01-31                0.0                0.0               0.0   \n...                                  ...                ...               ...   \n2019-12-09/2019-12-15                0.0              390.0               0.0   \n2019-12-16/2019-12-22                0.0                0.0            5070.0   \n2019-12-23/2019-12-29                0.0                0.0            4485.0   \n2019-12-30/2020-01-05                0.0                0.0               0.0   \n2020-01-06/2020-01-12                0.0                0.0               0.0   \n\n                       תפוזים_מחוז תל אביב  תפוחים_other  תפוחים_מחוז הדרום  \\\nyear_weeks                                                                    \n2009-12-28/2010-01-03                  0.0           0.0                0.0   \n2010-01-04/2010-01-10                  0.0           0.0                0.0   \n2010-01-11/2010-01-17                  0.0           0.0                0.0   \n2010-01-18/2010-01-24                  0.0           0.0                0.0   \n2010-01-25/2010-01-31                  0.0           0.0                0.0   \n...                                    ...           ...                ...   \n2019-12-09/2019-12-15                  0.0           0.0                0.0   \n2019-12-16/2019-12-22               2730.0           0.0                0.0   \n2019-12-23/2019-12-29               2340.0           0.0                0.0   \n2019-12-30/2020-01-05                  0.0           0.0                0.0   \n2020-01-06/2020-01-12                  0.0           0.0                0.0   \n\n                       תפוחים_מחוז המרכז  תפוחים_מחוז הצפון  תפוחים_מחוז חיפה  \\\nyear_weeks                                                                      \n2009-12-28/2010-01-03                0.0                0.0               0.0   \n2010-01-04/2010-01-10                0.0                0.0               0.0   \n2010-01-11/2010-01-17                0.0                0.0               0.0   \n2010-01-18/2010-01-24                0.0                0.0               0.0   \n2010-01-25/2010-01-31                0.0                0.0               0.0   \n...                                  ...                ...               ...   \n2019-12-09/2019-12-15                0.0                0.0               0.0   \n2019-12-16/2019-12-22                0.0                0.0               0.0   \n2019-12-23/2019-12-29                0.0                0.0               0.0   \n2019-12-30/2020-01-05                0.0                0.0               0.0   \n2020-01-06/2020-01-12                0.0                0.0               0.0   \n\n                       תפוחים_מחוז תל אביב  \nyear_weeks                                  \n2009-12-28/2010-01-03                  0.0  \n2010-01-04/2010-01-10                  0.0  \n2010-01-11/2010-01-17                  0.0  \n2010-01-18/2010-01-24                  0.0  \n2010-01-25/2010-01-31                  0.0  \n...                                    ...  \n2019-12-09/2019-12-15                  0.0  \n2019-12-16/2019-12-22                  0.0  \n2019-12-23/2019-12-29                  0.0  \n2019-12-30/2020-01-05                  0.0  \n2020-01-06/2020-01-12                  0.0  \n\n[524 rows x 188 columns]",
      "text/html": "<div>\n<style scoped>\n    .dataframe tbody tr th:only-of-type {\n        vertical-align: middle;\n    }\n\n    .dataframe tbody tr th {\n        vertical-align: top;\n    }\n\n    .dataframe thead th {\n        text-align: right;\n    }\n</style>\n<table border=\"1\" class=\"dataframe\">\n  <thead>\n    <tr style=\"text-align: right;\">\n      <th></th>\n      <th>other_יהודה ושומרון</th>\n      <th>other_מחוז הדרום</th>\n      <th>other_מחוז המרכז</th>\n      <th>other_מחוז הצפון</th>\n      <th>other_מחוז חיפה</th>\n      <th>other_מחוז ירושלים</th>\n      <th>other_מחוז תל אביב</th>\n      <th>אבטיחים_other</th>\n      <th>אבטיחים_יהודה ושומרון</th>\n      <th>אבטיחים_מחוז הדרום</th>\n      <th>...</th>\n      <th>תפוזים_מחוז המרכז</th>\n      <th>תפוזים_מחוז הצפון</th>\n      <th>תפוזים_מחוז חיפה</th>\n      <th>תפוזים_מחוז תל אביב</th>\n      <th>תפוחים_other</th>\n      <th>תפוחים_מחוז הדרום</th>\n      <th>תפוחים_מחוז המרכז</th>\n      <th>תפוחים_מחוז הצפון</th>\n      <th>תפוחים_מחוז חיפה</th>\n      <th>תפוחים_מחוז תל אביב</th>\n    </tr>\n    <tr>\n      <th>year_weeks</th>\n      <th></th>\n      <th></th>\n      <th></th>\n      <th></th>\n      <th></th>\n      <th></th>\n      <th></th>\n      <th></th>\n      <th></th>\n      <th></th>\n      <th></th>\n      <th></th>\n      <th></th>\n      <th></th>\n      <th></th>\n      <th></th>\n      <th></th>\n      <th></th>\n      <th></th>\n      <th></th>\n      <th></th>\n    </tr>\n  </thead>\n  <tbody>\n    <tr>\n      <th>2009-12-28/2010-01-03</th>\n      <td>0.0</td>\n      <td>0.0</td>\n      <td>0.0</td>\n      <td>0.0</td>\n      <td>0.0</td>\n      <td>0.0</td>\n      <td>0.0</td>\n      <td>0.0</td>\n      <td>0.0</td>\n      <td>0.0</td>\n      <td>...</td>\n      <td>0.0</td>\n      <td>0.0</td>\n      <td>0.0</td>\n      <td>0.0</td>\n      <td>0.0</td>\n      <td>0.0</td>\n      <td>0.0</td>\n      <td>0.0</td>\n      <td>0.0</td>\n      <td>0.0</td>\n    </tr>\n    <tr>\n      <th>2010-01-04/2010-01-10</th>\n      <td>0.0</td>\n      <td>3500.0</td>\n      <td>800.0</td>\n      <td>0.0</td>\n      <td>0.0</td>\n      <td>0.0</td>\n      <td>0.0</td>\n      <td>0.0</td>\n      <td>0.0</td>\n      <td>0.0</td>\n      <td>...</td>\n      <td>0.0</td>\n      <td>0.0</td>\n      <td>0.0</td>\n      <td>0.0</td>\n      <td>0.0</td>\n      <td>0.0</td>\n      <td>0.0</td>\n      <td>0.0</td>\n      <td>0.0</td>\n      <td>0.0</td>\n    </tr>\n    <tr>\n      <th>2010-01-11/2010-01-17</th>\n      <td>0.0</td>\n      <td>0.0</td>\n      <td>780.0</td>\n      <td>4700.0</td>\n      <td>0.0</td>\n      <td>0.0</td>\n      <td>0.0</td>\n      <td>0.0</td>\n      <td>0.0</td>\n      <td>0.0</td>\n      <td>...</td>\n      <td>0.0</td>\n      <td>0.0</td>\n      <td>0.0</td>\n      <td>0.0</td>\n      <td>0.0</td>\n      <td>0.0</td>\n      <td>0.0</td>\n      <td>0.0</td>\n      <td>0.0</td>\n      <td>0.0</td>\n    </tr>\n    <tr>\n      <th>2010-01-18/2010-01-24</th>\n      <td>0.0</td>\n      <td>0.0</td>\n      <td>0.0</td>\n      <td>2000.0</td>\n      <td>0.0</td>\n      <td>0.0</td>\n      <td>0.0</td>\n      <td>0.0</td>\n      <td>0.0</td>\n      <td>0.0</td>\n      <td>...</td>\n      <td>0.0</td>\n      <td>0.0</td>\n      <td>0.0</td>\n      <td>0.0</td>\n      <td>0.0</td>\n      <td>0.0</td>\n      <td>0.0</td>\n      <td>0.0</td>\n      <td>0.0</td>\n      <td>0.0</td>\n    </tr>\n    <tr>\n      <th>2010-01-25/2010-01-31</th>\n      <td>0.0</td>\n      <td>1200.0</td>\n      <td>0.0</td>\n      <td>0.0</td>\n      <td>0.0</td>\n      <td>0.0</td>\n      <td>0.0</td>\n      <td>0.0</td>\n      <td>0.0</td>\n      <td>0.0</td>\n      <td>...</td>\n      <td>0.0</td>\n      <td>0.0</td>\n      <td>0.0</td>\n      <td>0.0</td>\n      <td>0.0</td>\n      <td>0.0</td>\n      <td>0.0</td>\n      <td>0.0</td>\n      <td>0.0</td>\n      <td>0.0</td>\n    </tr>\n    <tr>\n      <th>...</th>\n      <td>...</td>\n      <td>...</td>\n      <td>...</td>\n      <td>...</td>\n      <td>...</td>\n      <td>...</td>\n      <td>...</td>\n      <td>...</td>\n      <td>...</td>\n      <td>...</td>\n      <td>...</td>\n      <td>...</td>\n      <td>...</td>\n      <td>...</td>\n      <td>...</td>\n      <td>...</td>\n      <td>...</td>\n      <td>...</td>\n      <td>...</td>\n      <td>...</td>\n      <td>...</td>\n    </tr>\n    <tr>\n      <th>2019-12-09/2019-12-15</th>\n      <td>0.0</td>\n      <td>502.0</td>\n      <td>19624.5</td>\n      <td>0.0</td>\n      <td>450.0</td>\n      <td>0.0</td>\n      <td>0.0</td>\n      <td>0.0</td>\n      <td>0.0</td>\n      <td>0.0</td>\n      <td>...</td>\n      <td>0.0</td>\n      <td>390.0</td>\n      <td>0.0</td>\n      <td>0.0</td>\n      <td>0.0</td>\n      <td>0.0</td>\n      <td>0.0</td>\n      <td>0.0</td>\n      <td>0.0</td>\n      <td>0.0</td>\n    </tr>\n    <tr>\n      <th>2019-12-16/2019-12-22</th>\n      <td>0.0</td>\n      <td>2315.0</td>\n      <td>11764.0</td>\n      <td>2470.0</td>\n      <td>0.0</td>\n      <td>0.0</td>\n      <td>400.0</td>\n      <td>0.0</td>\n      <td>0.0</td>\n      <td>0.0</td>\n      <td>...</td>\n      <td>0.0</td>\n      <td>0.0</td>\n      <td>5070.0</td>\n      <td>2730.0</td>\n      <td>0.0</td>\n      <td>0.0</td>\n      <td>0.0</td>\n      <td>0.0</td>\n      <td>0.0</td>\n      <td>0.0</td>\n    </tr>\n    <tr>\n      <th>2019-12-23/2019-12-29</th>\n      <td>0.0</td>\n      <td>12885.0</td>\n      <td>4830.5</td>\n      <td>0.0</td>\n      <td>0.0</td>\n      <td>0.0</td>\n      <td>0.0</td>\n      <td>0.0</td>\n      <td>0.0</td>\n      <td>0.0</td>\n      <td>...</td>\n      <td>0.0</td>\n      <td>0.0</td>\n      <td>4485.0</td>\n      <td>2340.0</td>\n      <td>0.0</td>\n      <td>0.0</td>\n      <td>0.0</td>\n      <td>0.0</td>\n      <td>0.0</td>\n      <td>0.0</td>\n    </tr>\n    <tr>\n      <th>2019-12-30/2020-01-05</th>\n      <td>0.0</td>\n      <td>2770.0</td>\n      <td>277.4</td>\n      <td>0.0</td>\n      <td>0.0</td>\n      <td>0.0</td>\n      <td>0.0</td>\n      <td>0.0</td>\n      <td>0.0</td>\n      <td>0.0</td>\n      <td>...</td>\n      <td>0.0</td>\n      <td>0.0</td>\n      <td>0.0</td>\n      <td>0.0</td>\n      <td>0.0</td>\n      <td>0.0</td>\n      <td>0.0</td>\n      <td>0.0</td>\n      <td>0.0</td>\n      <td>0.0</td>\n    </tr>\n    <tr>\n      <th>2020-01-06/2020-01-12</th>\n      <td>0.0</td>\n      <td>0.0</td>\n      <td>3520.0</td>\n      <td>4410.0</td>\n      <td>0.0</td>\n      <td>0.0</td>\n      <td>1560.0</td>\n      <td>0.0</td>\n      <td>0.0</td>\n      <td>0.0</td>\n      <td>...</td>\n      <td>0.0</td>\n      <td>0.0</td>\n      <td>0.0</td>\n      <td>0.0</td>\n      <td>0.0</td>\n      <td>0.0</td>\n      <td>0.0</td>\n      <td>0.0</td>\n      <td>0.0</td>\n      <td>0.0</td>\n    </tr>\n  </tbody>\n</table>\n<p>524 rows × 188 columns</p>\n</div>"
     },
     "execution_count": 258,
     "metadata": {},
     "output_type": "execute_result"
    }
   ],
   "source": [
    "# revert into old format\n",
    "\n",
    "\n",
    "# merge food and district into old format\n",
    "df = pd.concat([melted_train[\"year_weeks\"], melted_train[[\"food\", \"district\"]].apply(lambda x: f\"{x[0]}_{x[1]}\", axis=1).rename(\"placeXfood\"), melted_train[\"Weight\"]], axis=1)\n",
    "df = df.set_index([\"year_weeks\", \"placeXfood\"])[\"Weight\"].unstack()\n",
    "df.columns.name = None\n",
    "df\n"
   ],
   "metadata": {
    "collapsed": false,
    "pycharm": {
     "name": "#%%\n"
    }
   }
  },
  {
   "cell_type": "code",
   "execution_count": null,
   "outputs": [],
   "source": [],
   "metadata": {
    "collapsed": false,
    "pycharm": {
     "name": "#%%\n"
    }
   }
  },
  {
   "cell_type": "code",
   "execution_count": null,
   "outputs": [],
   "source": [],
   "metadata": {
    "collapsed": false,
    "pycharm": {
     "name": "#%%\n"
    }
   }
  },
  {
   "cell_type": "code",
   "execution_count": null,
   "outputs": [],
   "source": [],
   "metadata": {
    "collapsed": false,
    "pycharm": {
     "name": "#%%\n"
    }
   }
  },
  {
   "cell_type": "code",
   "execution_count": 176,
   "outputs": [
    {
     "data": {
      "text/plain": "Index(['2009-12-28/2010-01-03', '2010-01-04/2010-01-10',\n       '2010-01-11/2010-01-17', '2010-01-18/2010-01-24',\n       '2010-01-25/2010-01-31', '2010-02-01/2010-02-07',\n       '2010-02-08/2010-02-14', '2010-02-15/2010-02-21',\n       '2010-02-22/2010-02-28', '2010-03-01/2010-03-07',\n       ...\n       '2019-11-04/2019-11-10', '2019-11-11/2019-11-17',\n       '2019-11-18/2019-11-24', '2019-11-25/2019-12-01',\n       '2019-12-02/2019-12-08', '2019-12-09/2019-12-15',\n       '2019-12-16/2019-12-22', '2019-12-23/2019-12-29',\n       '2019-12-30/2020-01-05', '2020-01-06/2020-01-12'],\n      dtype='object', name='year_weeks', length=524)"
     },
     "execution_count": 176,
     "metadata": {},
     "output_type": "execute_result"
    }
   ],
   "source": [
    "y_train.index"
   ],
   "metadata": {
    "collapsed": false,
    "pycharm": {
     "name": "#%%\n"
    }
   }
  },
  {
   "cell_type": "code",
   "execution_count": 189,
   "outputs": [],
   "source": [
    "y_train[\"month\"] = list(map(lambda x: int(x.split(\"/\")[1].split(\"-\")[1]), y_train.index))"
   ],
   "metadata": {
    "collapsed": false,
    "pycharm": {
     "name": "#%%\n"
    }
   }
  },
  {
   "cell_type": "code",
   "execution_count": 192,
   "outputs": [
    {
     "data": {
      "text/plain": "                       1   2   3   4   5   6   7   8   9   10  11  12\nyear_weeks                                                           \n2009-12-28/2010-01-03   1   0   0   0   0   0   0   0   0   0   0   0\n2010-01-04/2010-01-10   1   0   0   0   0   0   0   0   0   0   0   0\n2010-01-11/2010-01-17   1   0   0   0   0   0   0   0   0   0   0   0\n2010-01-18/2010-01-24   1   0   0   0   0   0   0   0   0   0   0   0\n2010-01-25/2010-01-31   1   0   0   0   0   0   0   0   0   0   0   0\n...                    ..  ..  ..  ..  ..  ..  ..  ..  ..  ..  ..  ..\n2019-12-09/2019-12-15   0   0   0   0   0   0   0   0   0   0   0   1\n2019-12-16/2019-12-22   0   0   0   0   0   0   0   0   0   0   0   1\n2019-12-23/2019-12-29   0   0   0   0   0   0   0   0   0   0   0   1\n2019-12-30/2020-01-05   1   0   0   0   0   0   0   0   0   0   0   0\n2020-01-06/2020-01-12   1   0   0   0   0   0   0   0   0   0   0   0\n\n[524 rows x 12 columns]",
      "text/html": "<div>\n<style scoped>\n    .dataframe tbody tr th:only-of-type {\n        vertical-align: middle;\n    }\n\n    .dataframe tbody tr th {\n        vertical-align: top;\n    }\n\n    .dataframe thead th {\n        text-align: right;\n    }\n</style>\n<table border=\"1\" class=\"dataframe\">\n  <thead>\n    <tr style=\"text-align: right;\">\n      <th></th>\n      <th>1</th>\n      <th>2</th>\n      <th>3</th>\n      <th>4</th>\n      <th>5</th>\n      <th>6</th>\n      <th>7</th>\n      <th>8</th>\n      <th>9</th>\n      <th>10</th>\n      <th>11</th>\n      <th>12</th>\n    </tr>\n    <tr>\n      <th>year_weeks</th>\n      <th></th>\n      <th></th>\n      <th></th>\n      <th></th>\n      <th></th>\n      <th></th>\n      <th></th>\n      <th></th>\n      <th></th>\n      <th></th>\n      <th></th>\n      <th></th>\n    </tr>\n  </thead>\n  <tbody>\n    <tr>\n      <th>2009-12-28/2010-01-03</th>\n      <td>1</td>\n      <td>0</td>\n      <td>0</td>\n      <td>0</td>\n      <td>0</td>\n      <td>0</td>\n      <td>0</td>\n      <td>0</td>\n      <td>0</td>\n      <td>0</td>\n      <td>0</td>\n      <td>0</td>\n    </tr>\n    <tr>\n      <th>2010-01-04/2010-01-10</th>\n      <td>1</td>\n      <td>0</td>\n      <td>0</td>\n      <td>0</td>\n      <td>0</td>\n      <td>0</td>\n      <td>0</td>\n      <td>0</td>\n      <td>0</td>\n      <td>0</td>\n      <td>0</td>\n      <td>0</td>\n    </tr>\n    <tr>\n      <th>2010-01-11/2010-01-17</th>\n      <td>1</td>\n      <td>0</td>\n      <td>0</td>\n      <td>0</td>\n      <td>0</td>\n      <td>0</td>\n      <td>0</td>\n      <td>0</td>\n      <td>0</td>\n      <td>0</td>\n      <td>0</td>\n      <td>0</td>\n    </tr>\n    <tr>\n      <th>2010-01-18/2010-01-24</th>\n      <td>1</td>\n      <td>0</td>\n      <td>0</td>\n      <td>0</td>\n      <td>0</td>\n      <td>0</td>\n      <td>0</td>\n      <td>0</td>\n      <td>0</td>\n      <td>0</td>\n      <td>0</td>\n      <td>0</td>\n    </tr>\n    <tr>\n      <th>2010-01-25/2010-01-31</th>\n      <td>1</td>\n      <td>0</td>\n      <td>0</td>\n      <td>0</td>\n      <td>0</td>\n      <td>0</td>\n      <td>0</td>\n      <td>0</td>\n      <td>0</td>\n      <td>0</td>\n      <td>0</td>\n      <td>0</td>\n    </tr>\n    <tr>\n      <th>...</th>\n      <td>...</td>\n      <td>...</td>\n      <td>...</td>\n      <td>...</td>\n      <td>...</td>\n      <td>...</td>\n      <td>...</td>\n      <td>...</td>\n      <td>...</td>\n      <td>...</td>\n      <td>...</td>\n      <td>...</td>\n    </tr>\n    <tr>\n      <th>2019-12-09/2019-12-15</th>\n      <td>0</td>\n      <td>0</td>\n      <td>0</td>\n      <td>0</td>\n      <td>0</td>\n      <td>0</td>\n      <td>0</td>\n      <td>0</td>\n      <td>0</td>\n      <td>0</td>\n      <td>0</td>\n      <td>1</td>\n    </tr>\n    <tr>\n      <th>2019-12-16/2019-12-22</th>\n      <td>0</td>\n      <td>0</td>\n      <td>0</td>\n      <td>0</td>\n      <td>0</td>\n      <td>0</td>\n      <td>0</td>\n      <td>0</td>\n      <td>0</td>\n      <td>0</td>\n      <td>0</td>\n      <td>1</td>\n    </tr>\n    <tr>\n      <th>2019-12-23/2019-12-29</th>\n      <td>0</td>\n      <td>0</td>\n      <td>0</td>\n      <td>0</td>\n      <td>0</td>\n      <td>0</td>\n      <td>0</td>\n      <td>0</td>\n      <td>0</td>\n      <td>0</td>\n      <td>0</td>\n      <td>1</td>\n    </tr>\n    <tr>\n      <th>2019-12-30/2020-01-05</th>\n      <td>1</td>\n      <td>0</td>\n      <td>0</td>\n      <td>0</td>\n      <td>0</td>\n      <td>0</td>\n      <td>0</td>\n      <td>0</td>\n      <td>0</td>\n      <td>0</td>\n      <td>0</td>\n      <td>0</td>\n    </tr>\n    <tr>\n      <th>2020-01-06/2020-01-12</th>\n      <td>1</td>\n      <td>0</td>\n      <td>0</td>\n      <td>0</td>\n      <td>0</td>\n      <td>0</td>\n      <td>0</td>\n      <td>0</td>\n      <td>0</td>\n      <td>0</td>\n      <td>0</td>\n      <td>0</td>\n    </tr>\n  </tbody>\n</table>\n<p>524 rows × 12 columns</p>\n</div>"
     },
     "execution_count": 192,
     "metadata": {},
     "output_type": "execute_result"
    }
   ],
   "source": [
    "# y_train.set_index([y_train.index, \"month\"])\n",
    "pd.get_dummies(y_train[\"month\"])"
   ],
   "metadata": {
    "collapsed": false,
    "pycharm": {
     "name": "#%%\n"
    }
   }
  },
  {
   "cell_type": "code",
   "execution_count": 34,
   "outputs": [
    {
     "data": {
      "text/plain": "                year_weeks       date_ts\n0    2020-01-13/2020-01-19  1.578866e+09\n1    2020-01-20/2020-01-26  1.579471e+09\n2    2020-01-27/2020-02-02  1.580076e+09\n3    2020-02-03/2020-02-09  1.580681e+09\n4    2020-02-10/2020-02-16  1.581286e+09\n..                     ...           ...\n126  2022-06-13/2022-06-19  1.655068e+09\n127  2022-06-20/2022-06-26  1.655672e+09\n128  2022-06-27/2022-07-03  1.656277e+09\n129  2022-07-04/2022-07-10  1.656882e+09\n130  2022-07-11/2022-07-17  1.657487e+09\n\n[131 rows x 2 columns]",
      "text/html": "<div>\n<style scoped>\n    .dataframe tbody tr th:only-of-type {\n        vertical-align: middle;\n    }\n\n    .dataframe tbody tr th {\n        vertical-align: top;\n    }\n\n    .dataframe thead th {\n        text-align: right;\n    }\n</style>\n<table border=\"1\" class=\"dataframe\">\n  <thead>\n    <tr style=\"text-align: right;\">\n      <th></th>\n      <th>year_weeks</th>\n      <th>date_ts</th>\n    </tr>\n  </thead>\n  <tbody>\n    <tr>\n      <th>0</th>\n      <td>2020-01-13/2020-01-19</td>\n      <td>1.578866e+09</td>\n    </tr>\n    <tr>\n      <th>1</th>\n      <td>2020-01-20/2020-01-26</td>\n      <td>1.579471e+09</td>\n    </tr>\n    <tr>\n      <th>2</th>\n      <td>2020-01-27/2020-02-02</td>\n      <td>1.580076e+09</td>\n    </tr>\n    <tr>\n      <th>3</th>\n      <td>2020-02-03/2020-02-09</td>\n      <td>1.580681e+09</td>\n    </tr>\n    <tr>\n      <th>4</th>\n      <td>2020-02-10/2020-02-16</td>\n      <td>1.581286e+09</td>\n    </tr>\n    <tr>\n      <th>...</th>\n      <td>...</td>\n      <td>...</td>\n    </tr>\n    <tr>\n      <th>126</th>\n      <td>2022-06-13/2022-06-19</td>\n      <td>1.655068e+09</td>\n    </tr>\n    <tr>\n      <th>127</th>\n      <td>2022-06-20/2022-06-26</td>\n      <td>1.655672e+09</td>\n    </tr>\n    <tr>\n      <th>128</th>\n      <td>2022-06-27/2022-07-03</td>\n      <td>1.656277e+09</td>\n    </tr>\n    <tr>\n      <th>129</th>\n      <td>2022-07-04/2022-07-10</td>\n      <td>1.656882e+09</td>\n    </tr>\n    <tr>\n      <th>130</th>\n      <td>2022-07-11/2022-07-17</td>\n      <td>1.657487e+09</td>\n    </tr>\n  </tbody>\n</table>\n<p>131 rows × 2 columns</p>\n</div>"
     },
     "execution_count": 34,
     "metadata": {},
     "output_type": "execute_result"
    }
   ],
   "source": [
    "test_indices"
   ],
   "metadata": {
    "collapsed": false,
    "pycharm": {
     "name": "#%%\n"
    }
   }
  },
  {
   "cell_type": "code",
   "execution_count": null,
   "outputs": [],
   "source": [],
   "metadata": {
    "collapsed": false,
    "pycharm": {
     "name": "#%%\n"
    }
   }
  },
  {
   "cell_type": "code",
   "execution_count": null,
   "outputs": [],
   "source": [],
   "metadata": {
    "collapsed": false,
    "pycharm": {
     "name": "#%%\n"
    }
   }
  },
  {
   "cell_type": "code",
   "execution_count": null,
   "outputs": [],
   "source": [],
   "metadata": {
    "collapsed": false,
    "pycharm": {
     "name": "#%%\n"
    }
   }
  },
  {
   "cell_type": "code",
   "execution_count": null,
   "outputs": [],
   "source": [],
   "metadata": {
    "collapsed": false,
    "pycharm": {
     "name": "#%%\n"
    }
   }
  },
  {
   "cell_type": "code",
   "execution_count": null,
   "outputs": [],
   "source": [],
   "metadata": {
    "collapsed": false,
    "pycharm": {
     "name": "#%%\n"
    }
   }
  },
  {
   "cell_type": "code",
   "execution_count": null,
   "outputs": [],
   "source": [],
   "metadata": {
    "collapsed": false,
    "pycharm": {
     "name": "#%%\n"
    }
   }
  },
  {
   "cell_type": "code",
   "execution_count": null,
   "outputs": [],
   "source": [],
   "metadata": {
    "collapsed": false,
    "pycharm": {
     "name": "#%%\n"
    }
   }
  },
  {
   "cell_type": "code",
   "execution_count": 170,
   "outputs": [
    {
     "data": {
      "text/plain": "<matplotlib.collections.PathCollection at 0x7faa65325c40>"
     },
     "execution_count": 170,
     "metadata": {},
     "output_type": "execute_result"
    },
    {
     "data": {
      "text/plain": "<Figure size 432x288 with 1 Axes>",
      "image/png": "[encoded data removed]"
     },
     "metadata": {
      "needs_background": "light"
     },
     "output_type": "display_data"
    }
   ],
   "source": [
    "temp = pd.DataFrame(y_train.transpose().sum().rename(\"Sum\"))\n",
    "temp[\"Time\"] = np.arange(len(temp.index))\n",
    "# temp\n",
    "plt.scatter(temp[\"Time\"], temp[\"Sum\"])"
   ],
   "metadata": {
    "collapsed": false,
    "pycharm": {
     "name": "#%%\n"
    }
   }
  },
  {
   "cell_type": "code",
   "execution_count": 175,
   "outputs": [
    {
     "data": {
      "text/plain": "<matplotlib.collections.PathCollection at 0x7faa650e37f0>"
     },
     "execution_count": 175,
     "metadata": {},
     "output_type": "execute_result"
    },
    {
     "data": {
      "text/plain": "<Figure size 432x288 with 1 Axes>",
      "image/png": "[encoded data removed]"
     },
     "metadata": {
      "needs_background": "light"
     },
     "output_type": "display_data"
    }
   ],
   "source": [
    "temp[\"lag_1\"] = temp[\"Sum\"].shift(1)\n",
    "plt.scatter(temp[\"lag_1\"], temp[\"Sum\"])"
   ],
   "metadata": {
    "collapsed": false,
    "pycharm": {
     "name": "#%%\n"
    }
   }
  }
 ],
 "metadata": {
  "kernelspec": {
   "display_name": "Python 3",
   "language": "python",
   "name": "python3"
  },
  "language_info": {
   "codemirror_mode": {
    "name": "ipython",
    "version": 2
   },
   "file_extension": ".py",
   "mimetype": "text/x-python",
   "name": "python",
   "nbconvert_exporter": "python",
   "pygments_lexer": "ipython2",
   "version": "2.7.6"
  }
 },
 "nbformat": 4,
 "nbformat_minor": 0
}